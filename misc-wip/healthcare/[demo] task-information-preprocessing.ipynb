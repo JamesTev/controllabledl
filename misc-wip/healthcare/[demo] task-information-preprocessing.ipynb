{
 "cells": [
  {
   "cell_type": "markdown",
   "metadata": {},
   "source": [
    "# Cardiovascular Disease dataset\n",
    "- Kaggle link: https://www.kaggle.com/sulianova/cardiovascular-disease-dataset\n",
    "- The dataset consists of 70 000 records of patients data, 11 features + target.\n",
    "\n",
    "## Description\n",
    "**Data description**\n",
    "\n",
    "There are 3 types of input features:\n",
    "\n",
    "- Objective: factual information;\n",
    "- Examination: results of medical examination;\n",
    "- Subjective: information given by the patient.\n",
    "\n",
    "**Features:**\n",
    "\n",
    "- **Age** | Objective Feature | **age** | int (days)\n",
    "- **Height** | Objective Feature | **height** | int (cm) |\n",
    "- **Weight** | Objective Feature | **weight** | float (kg) |\n",
    "- **Gender** | Objective Feature | **gender** | categorical code |\n",
    "- **Systolic blood pressure** | Examination Feature | **ap_hi** | int |\n",
    "- **Diastolic blood pressure** | Examination Feature | **ap_lo** | int |\n",
    "- **Cholesterol** | Examination Feature | **cholesterol** | 1: normal, 2: above normal, 3: well above normal |\n",
    "- **Glucose** | Examination Feature | **gluc** | 1: normal, 2: above normal, 3: well above normal |\n",
    "- **Smoking** | Subjective Feature | **smoke** | binary |\n",
    "- **Alcohol intake** | Subjective Feature | **alco** | binary |\n",
    "- **Physical activity** | Subjective Feature | **active** | binary |\n",
    "- **Presence or absence of cardiovascular disease** | Target Variable | **cardio** | binary |\n",
    "\n",
    "All of the dataset values were collected at the moment of medical examination."
   ]
  },
  {
   "cell_type": "code",
   "execution_count": 5,
   "metadata": {},
   "outputs": [
    {
     "name": "stdout",
     "output_type": "stream",
     "text": [
      "['/home/jupyter/controllable-ai/healthcare', '/opt/conda/lib/python37.zip', '/opt/conda/lib/python3.7', '/opt/conda/lib/python3.7/lib-dynload', '', '/opt/conda/lib/python3.7/site-packages', '/opt/conda/lib/python3.7/site-packages/IPython/extensions', '/home/jupyter/.ipython', '..', '..']\n"
     ]
    }
   ],
   "source": [
    "import sys\n",
    "sys.path.append('..')\n",
    "print(sys.path)"
   ]
  },
  {
   "cell_type": "code",
   "execution_count": 2,
   "metadata": {},
   "outputs": [
    {
     "name": "stdout",
     "output_type": "stream",
     "text": [
      "The autoreload extension is already loaded. To reload it, use:\n",
      "  %reload_ext autoreload\n",
      "Target class ratio:\n",
      "# of cardio=1: 34979/70000 (49.97%)\n",
      "# of cardio=0: 35021/70000 (50.03%)\n"
     ]
    }
   ],
   "source": [
    "%matplotlib inline\n",
    "%load_ext autoreload\n",
    "%autoreload 2\n",
    "import warnings\n",
    "warnings.filterwarnings('ignore')\n",
    "from ipywidgets import interact, interactive, fixed, interact_manual\n",
    "import ipywidgets as widgets\n",
    "\n",
    "import sys\n",
    "sys.path.append('..')\n",
    "\n",
    "import gc\n",
    "import os\n",
    "import importlib\n",
    "\n",
    "import pandas as pd\n",
    "import numpy as np\n",
    "\n",
    "import matplotlib.pyplot as plt\n",
    "\n",
    "import utils\n",
    "\n",
    "\n",
    "df = pd.read_csv(os.path.join('data', 'cardio_train.csv'), delimiter=';')\n",
    "df = df.drop(['id'], axis=1)\n",
    "\n",
    "y = df['cardio']\n",
    "X = df.drop(['cardio'], axis=1)\n",
    "\n",
    "print(\"Target class ratio:\")\n",
    "print(\"# of cardio=1: {}/{} ({:.2f}%)\".format(np.sum(y==1), len(y), 100*np.sum(y==1)/len(y)))\n",
    "print(\"# of cardio=0: {}/{} ({:.2f}%)\".format(np.sum(y==0), len(y), 100*np.sum(y==0)/len(y)))\n",
    "\n",
    "\n",
    "from sklearn.preprocessing import OneHotEncoder, Normalizer, StandardScaler\n",
    "from sklearn.compose import ColumnTransformer\n",
    "from sklearn.model_selection import train_test_split\n",
    "\n",
    "column_trans = ColumnTransformer(\n",
    "    [('age_norm', StandardScaler(), ['age']),\n",
    "     ('height_norm', StandardScaler(), ['height']),\n",
    "     ('weight_norm', StandardScaler(), ['weight']),\n",
    "     ('gender_cat', OneHotEncoder(), ['gender']),\n",
    "     ('ap_hi_norm', StandardScaler(), ['ap_hi']),\n",
    "     ('ap_lo_norm', StandardScaler(), ['ap_lo']),\n",
    "     ('cholesterol_cat', OneHotEncoder(), ['cholesterol']),\n",
    "     ('gluc_cat', OneHotEncoder(), ['gluc']),\n",
    "     ('smoke_cat', OneHotEncoder(), ['smoke']),\n",
    "     ('alco_cat', OneHotEncoder(), ['alco']),\n",
    "     ('active_cat', OneHotEncoder(), ['active']),\n",
    "    ], remainder='passthrough'\n",
    ")\n",
    "\n",
    "\n",
    "X = column_trans.fit_transform(X)\n",
    "X_np = X.copy()\n",
    "\n",
    "\n",
    "seed = 42\n",
    "X_train, X_test, y_train, y_test = train_test_split(X, y, test_size=0.2, random_state=seed)\n",
    "y_train = y_train.to_numpy()\n",
    "y_test = y_test.to_numpy()\n",
    "y_true = y_test.copy()"
   ]
  },
  {
   "cell_type": "code",
   "execution_count": 3,
   "metadata": {},
   "outputs": [
    {
     "data": {
      "text/plain": [
       "array([[-0.43606151,  0.44345206, -0.84787326, ...,  0.        ,\n",
       "         0.        ,  1.        ],\n",
       "       [ 0.30768633, -1.01816804,  0.74983117, ...,  0.        ,\n",
       "         0.        ,  1.        ],\n",
       "       [-0.24799666,  0.07804703, -0.70894244, ...,  0.        ,\n",
       "         1.        ,  0.        ],\n",
       "       ...,\n",
       "       [-0.16328642,  2.27047718,  2.13913938, ...,  1.        ,\n",
       "         1.        ,  0.        ],\n",
       "       [ 1.20058905, -0.16555632, -0.15321916, ...,  0.        ,\n",
       "         1.        ,  0.        ],\n",
       "       [ 0.43414373,  0.68705541, -0.15321916, ...,  0.        ,\n",
       "         0.        ,  1.        ]])"
      ]
     },
     "execution_count": 3,
     "metadata": {},
     "output_type": "execute_result"
    }
   ],
   "source": [
    "X"
   ]
  },
  {
   "cell_type": "markdown",
   "metadata": {},
   "source": [
    "## Simple baselines"
   ]
  },
  {
   "cell_type": "code",
   "execution_count": 37,
   "metadata": {},
   "outputs": [
    {
     "name": "stdout",
     "output_type": "stream",
     "text": [
      "[logistic] Accuracy: 72.22 %\n",
      "[knn] Accuracy: 64.91 %\n",
      "[dtree] Accuracy: 72.97 %\n",
      "[mlp] Accuracy: 74.07 %\n"
     ]
    }
   ],
   "source": [
    "from sklearn.metrics import accuracy_score, roc_curve, auc, roc_auc_score, precision_score, recall_score, precision_recall_curve, accuracy_score\n",
    "from sklearn.preprocessing import scale, StandardScaler\n",
    "from sklearn.preprocessing import OneHotEncoder\n",
    "\n",
    "from sklearn.linear_model import LogisticRegression\n",
    "from sklearn.neighbors import KNeighborsClassifier\n",
    "from sklearn.svm import SVC, LinearSVC\n",
    "from sklearn.neural_network import MLPClassifier\n",
    "from sklearn.tree import DecisionTreeClassifier\n",
    "from sklearn.ensemble import RandomForestClassifier\n",
    "\n",
    "from utils_cardio import *\n",
    "\n",
    "    \n",
    "\n",
    "\n",
    "fpr_dict = dict()\n",
    "tpr_dict = dict()\n",
    "roc_auc_dict = dict()\n",
    "acc_dict = dict()\n",
    "prec_dict = dict()\n",
    "recall_dict = dict()\n",
    "model_types = []\n",
    "\n",
    "#### Logistic regression\n",
    "model_type = 'logistic'\n",
    "if model_type not in model_types:\n",
    "    model_types.append(model_type)\n",
    "log_model = LogisticRegression(solver=\"liblinear\").fit(X_train, y_train)\n",
    "\n",
    "y_score = log_model.predict_proba(X_test)[:,1]    # probability of positive class\n",
    "y_pred = log_model.predict(X_test)\n",
    "\n",
    "acc_dict[model_type], prec_dict[model_type], recall_dict[model_type], fpr_dict[model_type], tpr_dict[model_type], roc_auc_dict[model_type] = get_metrics(y_true, y_pred, y_score)\n",
    "print('[{}] Accuracy: {:.2f} %'.format(model_type, 100*acc_dict[model_type]))\n",
    "\n",
    "\n",
    "#### KNN\n",
    "model_type = 'knn'\n",
    "if model_type not in model_types:\n",
    "    model_types.append(model_type)\n",
    "knn_model = KNeighborsClassifier().fit(X_train, y_train)\n",
    "\n",
    "y_score = knn_model.predict_proba(X_test)[:,1]\n",
    "y_pred = knn_model.predict(X_test)\n",
    "\n",
    "acc_dict[model_type], prec_dict[model_type], recall_dict[model_type], fpr_dict[model_type], tpr_dict[model_type], roc_auc_dict[model_type] = get_metrics(y_true, y_pred, y_score)\n",
    "print('[{}] Accuracy: {:.2f} %'.format(model_type, 100*acc_dict[model_type]))\n",
    "\n",
    "#### DecisionTree\n",
    "model_type = 'dtree'\n",
    "if model_type not in model_types:\n",
    "    model_types.append(model_type)\n",
    "dt_model = DecisionTreeClassifier(max_depth=3).fit(X_train, y_train)\n",
    "\n",
    "y_score = dt_model.predict_proba(X_test)[:, 1]\n",
    "y_pred = dt_model.predict(X_test)\n",
    "\n",
    "acc_dict[model_type], prec_dict[model_type], recall_dict[model_type], fpr_dict[model_type], tpr_dict[model_type], roc_auc_dict[model_type] = get_metrics(y_true, y_pred, y_score)\n",
    "print('[{}] Accuracy: {:.2f} %'.format(model_type, 100*acc_dict[model_type]))\n",
    "\n",
    "#### SVM\n",
    "# model_type = 'svm'\n",
    "# model_types.append(model_type)\n",
    "# svm_model = SVC(kernel=\"linear\", probability=True).fit(X_train, y_train)\n",
    "\n",
    "# y_score = svm_model.predict_proba(X_test)[:,1]\n",
    "# y_pred = svm_model.predict(X_test)\n",
    "\n",
    "# acc_dict[model_type], prec_dict[model_type], recall_dict[model_type], fpr_dict[model_type], tpr_dict[model_type], roc_auc_dict[model_type] = get_metrics(y_true, y_pred, y_score)\n",
    "# print('[{}] Accuracy: {:.2f} %'.format(model_type, 100*acc_dict[model_type]))\n",
    "\n",
    "\n",
    "#### MLP\n",
    "model_type = 'mlp'\n",
    "if model_type not in model_types:\n",
    "    model_types.append(model_type)\n",
    "scaler = StandardScaler()\n",
    "scaler.fit(X_train)\n",
    "X_train_scale = scaler.transform(X_train)\n",
    "X_test_scale = scaler.transform(X_test)\n",
    "\n",
    "mlpc_model = MLPClassifier().fit(X_train_scale, y_train)\n",
    "\n",
    "y_score = mlpc_model.predict_proba(X_test_scale)[:,1]\n",
    "y_pred = mlpc_model.predict(X_test_scale)\n",
    "\n",
    "acc_dict[model_type], prec_dict[model_type], recall_dict[model_type], fpr_dict[model_type], tpr_dict[model_type], roc_auc_dict[model_type] = get_metrics(y_true, y_pred, y_score)\n",
    "print('[{}] Accuracy: {:.2f} %'.format(model_type, 100*acc_dict[model_type]))"
   ]
  },
  {
   "cell_type": "code",
   "execution_count": null,
   "metadata": {},
   "outputs": [],
   "source": [
    "# model_type = 'svm'\n",
    "# model_types.append(model_type)\n",
    "# svm_model = SVC(kernel=\"linear\", probability=True).fit(X_train, y_train)\n",
    "\n",
    "# y_score = svm_model.predict_proba(X_test)[:,1]\n",
    "# y_pred = svm_model.predict(X_test)\n",
    "\n",
    "# acc_dict[model_type], prec_dict[model_type], recall_dict[model_type], fpr_dict[model_type], tpr_dict[model_type], roc_auc_dict[model_type] = get_metrics(y_true, y_pred, y_score)\n",
    "# print('[{}] Accuracy: {:.2f} %'.format(model_type, 100*acc_dict[model_type]))"
   ]
  },
  {
   "cell_type": "code",
   "execution_count": 60,
   "metadata": {},
   "outputs": [
    {
     "data": {
      "image/png": "[encoded data removed]",
      "text/plain": [
       "<Figure size 1080x720 with 1 Axes>"
      ]
     },
     "metadata": {
      "needs_background": "light"
     },
     "output_type": "display_data"
    }
   ],
   "source": [
    "plt.figure(figsize=(15,10))\n",
    "lw = 2\n",
    "for model_type in model_types:\n",
    "    plt.plot(fpr_dict[model_type], tpr_dict[model_type], lw=lw, label='{} ROC curve (area = %0.2f)'.format(model_type) % roc_auc_dict[model_type])\n",
    "plt.plot([0, 1], [0, 1], color='navy', lw=lw, linestyle='--')\n",
    "plt.xlim([0.0, 1.0])\n",
    "plt.ylim([0.0, 1.05])\n",
    "plt.xlabel('False Positive Rate')\n",
    "plt.ylabel('True Positive Rate')\n",
    "plt.title('Receiver operating characteristic example')\n",
    "plt.legend(loc=\"lower right\")\n",
    "plt.show()"
   ]
  },
  {
   "cell_type": "code",
   "execution_count": 40,
   "metadata": {},
   "outputs": [
    {
     "data": {
      "text/plain": [
       "{'activation': 'relu',\n",
       " 'alpha': 0.0001,\n",
       " 'batch_size': 'auto',\n",
       " 'beta_1': 0.9,\n",
       " 'beta_2': 0.999,\n",
       " 'early_stopping': False,\n",
       " 'epsilon': 1e-08,\n",
       " 'hidden_layer_sizes': (100,),\n",
       " 'learning_rate': 'constant',\n",
       " 'learning_rate_init': 0.001,\n",
       " 'max_fun': 15000,\n",
       " 'max_iter': 200,\n",
       " 'momentum': 0.9,\n",
       " 'n_iter_no_change': 10,\n",
       " 'nesterovs_momentum': True,\n",
       " 'power_t': 0.5,\n",
       " 'random_state': None,\n",
       " 'shuffle': True,\n",
       " 'solver': 'adam',\n",
       " 'tol': 0.0001,\n",
       " 'validation_fraction': 0.1,\n",
       " 'verbose': False,\n",
       " 'warm_start': False}"
      ]
     },
     "execution_count": 40,
     "metadata": {},
     "output_type": "execute_result"
    }
   ],
   "source": [
    "mlpc_model.get_params()"
   ]
  },
  {
   "cell_type": "code",
   "execution_count": 42,
   "metadata": {},
   "outputs": [
    {
     "data": {
      "text/plain": [
       "'logistic'"
      ]
     },
     "execution_count": 42,
     "metadata": {},
     "output_type": "execute_result"
    }
   ],
   "source": [
    "mlpc_model.out_activation_"
   ]
  },
  {
   "cell_type": "markdown",
   "metadata": {},
   "source": [
    "## Rule check"
   ]
  },
  {
   "cell_type": "code",
   "execution_count": 32,
   "metadata": {},
   "outputs": [
    {
     "data": {
      "text/html": [
       "<div>\n",
       "<style scoped>\n",
       "    .dataframe tbody tr th:only-of-type {\n",
       "        vertical-align: middle;\n",
       "    }\n",
       "\n",
       "    .dataframe tbody tr th {\n",
       "        vertical-align: top;\n",
       "    }\n",
       "\n",
       "    .dataframe thead th {\n",
       "        text-align: right;\n",
       "    }\n",
       "</style>\n",
       "<table border=\"1\" class=\"dataframe\">\n",
       "  <thead>\n",
       "    <tr style=\"text-align: right;\">\n",
       "      <th></th>\n",
       "      <th>age</th>\n",
       "      <th>gender</th>\n",
       "      <th>height</th>\n",
       "      <th>weight</th>\n",
       "      <th>ap_hi</th>\n",
       "      <th>ap_lo</th>\n",
       "      <th>cholesterol</th>\n",
       "      <th>gluc</th>\n",
       "      <th>smoke</th>\n",
       "      <th>alco</th>\n",
       "      <th>active</th>\n",
       "      <th>cardio</th>\n",
       "    </tr>\n",
       "  </thead>\n",
       "  <tbody>\n",
       "    <tr>\n",
       "      <th>0</th>\n",
       "      <td>18393</td>\n",
       "      <td>2</td>\n",
       "      <td>168</td>\n",
       "      <td>62.0</td>\n",
       "      <td>110</td>\n",
       "      <td>80</td>\n",
       "      <td>1</td>\n",
       "      <td>1</td>\n",
       "      <td>0</td>\n",
       "      <td>0</td>\n",
       "      <td>1</td>\n",
       "      <td>0</td>\n",
       "    </tr>\n",
       "    <tr>\n",
       "      <th>1</th>\n",
       "      <td>20228</td>\n",
       "      <td>1</td>\n",
       "      <td>156</td>\n",
       "      <td>85.0</td>\n",
       "      <td>140</td>\n",
       "      <td>90</td>\n",
       "      <td>3</td>\n",
       "      <td>1</td>\n",
       "      <td>0</td>\n",
       "      <td>0</td>\n",
       "      <td>1</td>\n",
       "      <td>1</td>\n",
       "    </tr>\n",
       "    <tr>\n",
       "      <th>2</th>\n",
       "      <td>18857</td>\n",
       "      <td>1</td>\n",
       "      <td>165</td>\n",
       "      <td>64.0</td>\n",
       "      <td>130</td>\n",
       "      <td>70</td>\n",
       "      <td>3</td>\n",
       "      <td>1</td>\n",
       "      <td>0</td>\n",
       "      <td>0</td>\n",
       "      <td>0</td>\n",
       "      <td>1</td>\n",
       "    </tr>\n",
       "    <tr>\n",
       "      <th>3</th>\n",
       "      <td>17623</td>\n",
       "      <td>2</td>\n",
       "      <td>169</td>\n",
       "      <td>82.0</td>\n",
       "      <td>150</td>\n",
       "      <td>100</td>\n",
       "      <td>1</td>\n",
       "      <td>1</td>\n",
       "      <td>0</td>\n",
       "      <td>0</td>\n",
       "      <td>1</td>\n",
       "      <td>1</td>\n",
       "    </tr>\n",
       "    <tr>\n",
       "      <th>4</th>\n",
       "      <td>17474</td>\n",
       "      <td>1</td>\n",
       "      <td>156</td>\n",
       "      <td>56.0</td>\n",
       "      <td>100</td>\n",
       "      <td>60</td>\n",
       "      <td>1</td>\n",
       "      <td>1</td>\n",
       "      <td>0</td>\n",
       "      <td>0</td>\n",
       "      <td>0</td>\n",
       "      <td>0</td>\n",
       "    </tr>\n",
       "  </tbody>\n",
       "</table>\n",
       "</div>"
      ],
      "text/plain": [
       "     age  gender  height  weight  ap_hi  ap_lo  cholesterol  gluc  smoke  \\\n",
       "0  18393       2     168    62.0    110     80            1     1      0   \n",
       "1  20228       1     156    85.0    140     90            3     1      0   \n",
       "2  18857       1     165    64.0    130     70            3     1      0   \n",
       "3  17623       2     169    82.0    150    100            1     1      0   \n",
       "4  17474       1     156    56.0    100     60            1     1      0   \n",
       "\n",
       "   alco  active  cardio  \n",
       "0     0       1       0  \n",
       "1     0       1       1  \n",
       "2     0       0       1  \n",
       "3     0       1       1  \n",
       "4     0       0       0  "
      ]
     },
     "execution_count": 32,
     "metadata": {},
     "output_type": "execute_result"
    }
   ],
   "source": [
    "df.head()"
   ]
  },
  {
   "cell_type": "code",
   "execution_count": 34,
   "metadata": {},
   "outputs": [
    {
     "data": {
      "text/plain": [
       "[<matplotlib.lines.Line2D at 0x7f6f6e09f4d0>]"
      ]
     },
     "execution_count": 34,
     "metadata": {},
     "output_type": "execute_result"
    },
    {
     "data": {
      "image/png": "[encoded data removed]",
      "text/plain": [
       "<Figure size 432x288 with 1 Axes>"
      ]
     },
     "metadata": {
      "needs_background": "light"
     },
     "output_type": "display_data"
    }
   ],
   "source": [
    "x1 = df['age']\n",
    "target = df['cardio']\n",
    "\n",
    "plt.plot(x1, target, '.')"
   ]
  },
  {
   "cell_type": "code",
   "execution_count": null,
   "metadata": {},
   "outputs": [],
   "source": []
  },
  {
   "cell_type": "code",
   "execution_count": null,
   "metadata": {},
   "outputs": [],
   "source": []
  },
  {
   "cell_type": "code",
   "execution_count": null,
   "metadata": {},
   "outputs": [],
   "source": []
  },
  {
   "cell_type": "code",
   "execution_count": null,
   "metadata": {},
   "outputs": [],
   "source": []
  },
  {
   "cell_type": "markdown",
   "metadata": {},
   "source": [
    "## torch"
   ]
  },
  {
   "cell_type": "code",
   "execution_count": 59,
   "metadata": {
    "scrolled": true
   },
   "outputs": [
    {
     "name": "stdout",
     "output_type": "stream",
     "text": [
      "data size: 50400/5600/14000\n",
      "total parameters: 2101\n",
      "saved_filename: saved_models/cardio-mlp-torch-seed42.demo.pt\n",
      "\n",
      "Before learning...\n",
      "[Valid] BCE loss: 0.49753, Accuracy: 0.562\n",
      "\n",
      "Start learning...\n",
      "[Train] Epoch 1/1000, BCE loss: 0.49974, Accuracy: 0.580\n",
      "[Valid] BCE loss: 0.45491, Accuracy: 0.552\t**best model is updated.**\n",
      "[Train] Epoch 2/1000, BCE loss: 0.49888, Accuracy: 0.596\n",
      "[Valid] BCE loss: 0.43521, Accuracy: 0.566\t**best model is updated.**\n",
      "[Train] Epoch 3/1000, BCE loss: 0.49838, Accuracy: 0.556\n",
      "[Valid] BCE loss: 0.43095, Accuracy: 0.563\t**best model is updated.**\n",
      "[Train] Epoch 4/1000, BCE loss: 0.49834, Accuracy: 0.543\n",
      "[Valid] BCE loss: 0.41870, Accuracy: 0.588\t**best model is updated.**\n",
      "[Train] Epoch 5/1000, BCE loss: 0.49805, Accuracy: 0.578\n",
      "[Valid] BCE loss: 0.40850, Accuracy: 0.599\t**best model is updated.**\n",
      "[Train] Epoch 6/1000, BCE loss: 0.49774, Accuracy: 0.608\n",
      "[Valid] BCE loss: 0.39218, Accuracy: 0.617\t**best model is updated.**\n",
      "[Train] Epoch 7/1000, BCE loss: 0.49788, Accuracy: 0.611\n",
      "[Valid] BCE loss: 0.38779, Accuracy: 0.618\t**best model is updated.**\n",
      "[Train] Epoch 8/1000, BCE loss: 0.49762, Accuracy: 0.617\n",
      "[Valid] BCE loss: 0.36454, Accuracy: 0.641\t**best model is updated.**\n",
      "[Train] Epoch 9/1000, BCE loss: 0.49787, Accuracy: 0.631\n",
      "[Valid] BCE loss: 0.37057, Accuracy: 0.635\t(not decreasing for 0/10)\n",
      "[Train] Epoch 10/1000, BCE loss: 0.49763, Accuracy: 0.628\n",
      "[Valid] BCE loss: 0.36134, Accuracy: 0.643\t**best model is updated.**\n",
      "[Train] Epoch 11/1000, BCE loss: 0.49795, Accuracy: 0.653\n",
      "[Valid] BCE loss: 0.35704, Accuracy: 0.650\t**best model is updated.**\n",
      "[Train] Epoch 12/1000, BCE loss: 0.49740, Accuracy: 0.654\n",
      "[Valid] BCE loss: 0.36813, Accuracy: 0.634\t(not decreasing for 0/10)\n",
      "[Train] Epoch 13/1000, BCE loss: 0.49745, Accuracy: 0.636\n",
      "[Valid] BCE loss: 0.34770, Accuracy: 0.658\t**best model is updated.**\n",
      "[Train] Epoch 14/1000, BCE loss: 0.49796, Accuracy: 0.657\n",
      "[Valid] BCE loss: 0.35462, Accuracy: 0.651\t(not decreasing for 0/10)\n",
      "[Train] Epoch 15/1000, BCE loss: 0.49726, Accuracy: 0.642\n",
      "[Valid] BCE loss: 0.35700, Accuracy: 0.647\t(not decreasing for 1/10)\n",
      "[Train] Epoch 16/1000, BCE loss: 0.49767, Accuracy: 0.644\n",
      "[Valid] BCE loss: 0.34825, Accuracy: 0.656\t(not decreasing for 2/10)\n",
      "[Train] Epoch 17/1000, BCE loss: 0.49716, Accuracy: 0.641\n",
      "[Valid] BCE loss: 0.35281, Accuracy: 0.651\t(not decreasing for 3/10)\n",
      "[Train] Epoch 18/1000, BCE loss: 0.49716, Accuracy: 0.663\n",
      "[Valid] BCE loss: 0.33625, Accuracy: 0.667\t**best model is updated.**\n",
      "[Train] Epoch 19/1000, BCE loss: 0.49733, Accuracy: 0.675\n",
      "[Valid] BCE loss: 0.33837, Accuracy: 0.666\t(not decreasing for 0/10)\n",
      "[Train] Epoch 20/1000, BCE loss: 0.49704, Accuracy: 0.668\n",
      "[Valid] BCE loss: 0.33205, Accuracy: 0.673\t**best model is updated.**\n",
      "[Train] Epoch 21/1000, BCE loss: 0.49680, Accuracy: 0.674\n",
      "[Valid] BCE loss: 0.33570, Accuracy: 0.664\t(not decreasing for 0/10)\n",
      "[Train] Epoch 22/1000, BCE loss: 0.49724, Accuracy: 0.661\n",
      "[Valid] BCE loss: 0.30635, Accuracy: 0.703\t**best model is updated.**\n",
      "[Train] Epoch 23/1000, BCE loss: 0.49694, Accuracy: 0.687\n",
      "[Valid] BCE loss: 0.31911, Accuracy: 0.686\t(not decreasing for 0/10)\n",
      "[Train] Epoch 24/1000, BCE loss: 0.49679, Accuracy: 0.690\n",
      "[Valid] BCE loss: 0.31067, Accuracy: 0.697\t(not decreasing for 1/10)\n",
      "[Train] Epoch 25/1000, BCE loss: 0.49714, Accuracy: 0.692\n",
      "[Valid] BCE loss: 0.32659, Accuracy: 0.675\t(not decreasing for 2/10)\n",
      "[Train] Epoch 26/1000, BCE loss: 0.49688, Accuracy: 0.675\n",
      "[Valid] BCE loss: 0.31738, Accuracy: 0.688\t(not decreasing for 3/10)\n",
      "[Train] Epoch 27/1000, BCE loss: 0.49634, Accuracy: 0.683\n",
      "[Valid] BCE loss: 0.30091, Accuracy: 0.708\t**best model is updated.**\n",
      "[Train] Epoch 28/1000, BCE loss: 0.49664, Accuracy: 0.703\n",
      "[Valid] BCE loss: 0.30861, Accuracy: 0.699\t(not decreasing for 0/10)\n",
      "[Train] Epoch 29/1000, BCE loss: 0.49679, Accuracy: 0.693\n",
      "[Valid] BCE loss: 0.29627, Accuracy: 0.710\t**best model is updated.**\n",
      "[Train] Epoch 30/1000, BCE loss: 0.49664, Accuracy: 0.707\n",
      "[Valid] BCE loss: 0.29092, Accuracy: 0.717\t**best model is updated.**\n",
      "[Train] Epoch 31/1000, BCE loss: 0.49693, Accuracy: 0.712\n",
      "[Valid] BCE loss: 0.31191, Accuracy: 0.692\t(not decreasing for 0/10)\n",
      "[Train] Epoch 32/1000, BCE loss: 0.49630, Accuracy: 0.698\n",
      "[Valid] BCE loss: 0.29825, Accuracy: 0.707\t(not decreasing for 1/10)\n",
      "[Train] Epoch 33/1000, BCE loss: 0.49634, Accuracy: 0.706\n",
      "[Valid] BCE loss: 0.30954, Accuracy: 0.694\t(not decreasing for 2/10)\n",
      "[Train] Epoch 34/1000, BCE loss: 0.49631, Accuracy: 0.713\n",
      "[Valid] BCE loss: 0.31429, Accuracy: 0.689\t(not decreasing for 3/10)\n",
      "[Train] Epoch 35/1000, BCE loss: 0.49627, Accuracy: 0.701\n",
      "[Valid] BCE loss: 0.30318, Accuracy: 0.700\t(not decreasing for 4/10)\n",
      "[Train] Epoch 36/1000, BCE loss: 0.49674, Accuracy: 0.709\n",
      "[Valid] BCE loss: 0.28761, Accuracy: 0.718\t**best model is updated.**\n",
      "[Train] Epoch 37/1000, BCE loss: 0.49670, Accuracy: 0.705\n",
      "[Valid] BCE loss: 0.28086, Accuracy: 0.727\t**best model is updated.**\n",
      "[Train] Epoch 38/1000, BCE loss: 0.49676, Accuracy: 0.719\n",
      "[Valid] BCE loss: 0.29268, Accuracy: 0.710\t(not decreasing for 0/10)\n",
      "[Train] Epoch 39/1000, BCE loss: 0.49670, Accuracy: 0.721\n",
      "[Valid] BCE loss: 0.29081, Accuracy: 0.713\t(not decreasing for 1/10)\n",
      "[Train] Epoch 40/1000, BCE loss: 0.49632, Accuracy: 0.722\n",
      "[Valid] BCE loss: 0.28350, Accuracy: 0.722\t(not decreasing for 2/10)\n",
      "[Train] Epoch 41/1000, BCE loss: 0.49673, Accuracy: 0.705\n",
      "[Valid] BCE loss: 0.27967, Accuracy: 0.724\t**best model is updated.**\n",
      "[Train] Epoch 42/1000, BCE loss: 0.49642, Accuracy: 0.723\n",
      "[Valid] BCE loss: 0.28377, Accuracy: 0.723\t(not decreasing for 0/10)\n",
      "[Train] Epoch 43/1000, BCE loss: 0.49640, Accuracy: 0.724\n",
      "[Valid] BCE loss: 0.28610, Accuracy: 0.719\t(not decreasing for 1/10)\n",
      "[Train] Epoch 44/1000, BCE loss: 0.49639, Accuracy: 0.709\n",
      "[Valid] BCE loss: 0.28534, Accuracy: 0.719\t(not decreasing for 2/10)\n",
      "[Train] Epoch 45/1000, BCE loss: 0.49664, Accuracy: 0.719\n",
      "[Valid] BCE loss: 0.28518, Accuracy: 0.719\t(not decreasing for 3/10)\n",
      "[Train] Epoch 46/1000, BCE loss: 0.49652, Accuracy: 0.724\n",
      "[Valid] BCE loss: 0.28668, Accuracy: 0.717\t(not decreasing for 4/10)\n",
      "[Train] Epoch 47/1000, BCE loss: 0.49647, Accuracy: 0.722\n",
      "[Valid] BCE loss: 0.30806, Accuracy: 0.697\t(not decreasing for 5/10)\n",
      "[Train] Epoch 48/1000, BCE loss: 0.49659, Accuracy: 0.705\n",
      "[Valid] BCE loss: 0.28286, Accuracy: 0.723\t(not decreasing for 6/10)\n",
      "[Train] Epoch 49/1000, BCE loss: 0.49697, Accuracy: 0.721\n",
      "[Valid] BCE loss: 0.30693, Accuracy: 0.700\t(not decreasing for 7/10)\n",
      "[Train] Epoch 50/1000, BCE loss: 0.49670, Accuracy: 0.712\n",
      "[Valid] BCE loss: 0.29412, Accuracy: 0.710\t(not decreasing for 8/10)\n",
      "[Train] Epoch 51/1000, BCE loss: 0.49658, Accuracy: 0.720\n",
      "[Valid] BCE loss: 0.31189, Accuracy: 0.693\t(not decreasing for 9/10)\n",
      "[Train] Epoch 52/1000, BCE loss: 0.49655, Accuracy: 0.709\n",
      "[Valid] BCE loss: 0.29090, Accuracy: 0.712\t(not decreasing for 10/10)\n",
      "\n",
      "After learning...\n",
      "[mlp-torch] Accuracy: 73.24 %\n"
     ]
    }
   ],
   "source": [
    "'''\n",
    "Data preprocessing for NN\n",
    "'''\n",
    "import random\n",
    "import torch\n",
    "if torch.cuda.is_available():\n",
    "    device = torch.device('cuda:0')\n",
    "else:\n",
    "    device = torch.device('cpu')\n",
    "import torch.nn as nn\n",
    "import torch.nn.functional as F\n",
    "import torch.optim as optim\n",
    "\n",
    "from torch.utils.data import DataLoader, TensorDataset\n",
    "\n",
    "from copy import deepcopy\n",
    "from model import RuleEncoder, DataEncoder, Net, NaiveModel, SharedNet, DataonlyNet\n",
    "\n",
    "\n",
    "def get_correct_results(out, label_Y):\n",
    "    y_pred_tag = torch.round(out)    # Binary label\n",
    "    return (y_pred_tag == label_Y).sum().float()\n",
    "\n",
    "\n",
    "seed = 42\n",
    "\n",
    "random.seed(seed)\n",
    "np.random.seed(seed)\n",
    "torch.manual_seed(seed)\n",
    "torch.cuda.manual_seed(seed)\n",
    "torch.cuda.manual_seed_all(seed)\n",
    "torch.backends.cudnn.deterministic = True\n",
    "torch.backends.cudnn.benchmark = False\n",
    "\n",
    "# 70:10:20 split\n",
    "train_X, valid_X, train_y, valid_y = train_test_split(X_train, y_train, test_size=0.1, random_state=seed)\n",
    "test_X, test_y = X_test.copy(), y_test.copy()\n",
    "\n",
    "train_X, train_y = torch.tensor(train_X, dtype=torch.float32, device=device), torch.tensor(train_y, dtype=torch.float32, device=device)\n",
    "valid_X, valid_y = torch.tensor(valid_X, dtype=torch.float32, device=device), torch.tensor(valid_y, dtype=torch.float32, device=device)\n",
    "test_X, test_y = torch.tensor(test_X, dtype=torch.float32, device=device), torch.tensor(test_y, dtype=torch.float32, device=device)\n",
    "\n",
    "total_train_sample = len(train_X)\n",
    "total_valid_sample = len(valid_X)\n",
    "total_test_sample = len(test_X)\n",
    "\n",
    "batch_size = 64\n",
    "train_loader = DataLoader(TensorDataset(train_X, train_y), batch_size=batch_size, shuffle=True)\n",
    "valid_loader = DataLoader(TensorDataset(valid_X, valid_y), batch_size=valid_X.shape[0])\n",
    "test_loader = DataLoader(TensorDataset(test_X, test_y), batch_size=test_X.shape[0])\n",
    "\n",
    "print(\"data size: {}/{}/{}\".format(len(train_X), len(valid_X), len(test_X)))\n",
    "\n",
    "lr = 0.001\n",
    "input_dim = train_X.shape[1]\n",
    "output_dim = 1\n",
    "l1_coeff = 1e-6\n",
    "        \n",
    "model = nn.Sequential(nn.Linear(input_dim, 100),\n",
    "                      nn.ReLU(),\n",
    "                      nn.Linear(100, output_dim),\n",
    "                      nn.Sigmoid())\n",
    "model.to(device)\n",
    "        \n",
    "total_params = sum(p.numel() for p in model.parameters())\n",
    "print(\"total parameters: {}\".format(total_params))\n",
    "\n",
    "loss_rule_func = lambda x,y: torch.mean(F.relu(x-y))    # if x>y, penalize it.\n",
    "loss_task_func = nn.L1Loss()    # return scalar (reduction=mean)\n",
    "# loss_task_func = nn.BCELoss()\n",
    "l1_func = nn.L1Loss()\n",
    "best_val_loss = float('inf')\n",
    "opt = optim.Adam(model.parameters(), lr=lr)\n",
    "# opt = optim.SGD(model.parameters(), lr=lr)\n",
    "\n",
    "epochs = 1000\n",
    "early_stopping_thld = 10\n",
    "counter_early_stopping = 1\n",
    "log_interval = 500\n",
    "valid_freq = 5\n",
    "\n",
    "model_type = 'mlp-torch'\n",
    "saved_filename = 'cardio-{}-seed{}.demo.pt'.format(model_type, seed)\n",
    "saved_filename =  os.path.join('saved_models', saved_filename)\n",
    "print('saved_filename: {}\\n'.format(saved_filename))\n",
    "\n",
    "\n",
    "\n",
    "print(\"Before learning...\")\n",
    "with torch.no_grad():\n",
    "    loss_cm = 0\n",
    "    correct_results_sum = 0\n",
    "    total_cm_samples = 0\n",
    "    for val_X, val_Y in valid_loader:\n",
    "        \n",
    "        out = model(val_X)\n",
    "        \n",
    "        loss_bce = loss_task_func(out, val_Y.unsqueeze(-1))\n",
    "\n",
    "        loss_cm += (loss_bce.item() * out.numel())\n",
    "        total_cm_samples += out.numel()\n",
    "        correct_results_sum += get_correct_results(out.squeeze(), val_Y)\n",
    "        \n",
    "    loss_cm /= total_cm_samples\n",
    "    acc = correct_results_sum / total_cm_samples\n",
    "\n",
    "    print(\"[Valid] BCE loss: {:.5f}, Accuracy: {:.3f}\\n\".format(loss_cm, acc))\n",
    "\n",
    "\n",
    "\n",
    "print(\"Start learning...\")\n",
    "epochs = 1000\n",
    "max_patience = 10\n",
    "best_val_loss = np.float('inf')\n",
    "for epoch in range(1, epochs+1):\n",
    "    epoch_loss_cm = 0\n",
    "    correct_results_sum = 0\n",
    "    total_cm_samples = 0\n",
    "    for batch_train_X, batch_train_Y in train_loader:\n",
    "        \n",
    "        opt.zero_grad()\n",
    "        \n",
    "        out = model(batch_train_X)\n",
    "        \n",
    "        loss_bce = loss_task_func(out, batch_train_Y)\n",
    "        \n",
    "        regularization_loss = 0\n",
    "        for param in model.parameters():\n",
    "            regularization_loss += torch.sum(torch.abs(param))\n",
    "        \n",
    "        loss = loss_bce + l1_coeff * regularization_loss\n",
    "        loss.backward()\n",
    "        opt.step()\n",
    "        \n",
    "        epoch_loss_cm += (loss_bce.item() * out.numel())\n",
    "        total_cm_samples += out.numel()\n",
    "        correct_results_sum += get_correct_results(out.squeeze(), batch_train_Y)\n",
    "        \n",
    "    epoch_loss_cm /= total_cm_samples\n",
    "    acc = correct_results_sum / total_cm_samples\n",
    "        \n",
    "    print(\"[Train] Epoch {}/{}, BCE loss: {:.5f}, Accuracy: {:.3f}\".format(epoch, epochs, epoch_loss_cm, acc))\n",
    "        \n",
    "    if epoch % 1 == 0 or epoch == 1:\n",
    "        \n",
    "        with torch.no_grad():\n",
    "            loss_cm = 0\n",
    "            correct_results_sum = 0\n",
    "            total_cm_samples = 0\n",
    "            for val_X, val_Y in valid_loader:\n",
    "                \n",
    "                out = model(val_X)\n",
    "        \n",
    "                loss_bce = loss_task_func(out, val_Y.unsqueeze(-1))\n",
    "\n",
    "                loss_cm += (loss_bce.item() * out.numel())\n",
    "                total_cm_samples += out.numel()\n",
    "                correct_results_sum += get_correct_results(out.squeeze(), val_Y)\n",
    "\n",
    "\n",
    "            loss_cm /= total_cm_samples\n",
    "            acc = correct_results_sum / total_cm_samples\n",
    "            \n",
    "            if loss_cm < best_val_loss:\n",
    "                best_val_loss = loss_cm\n",
    "                best_epoch = epoch\n",
    "                best_model_state_dict = deepcopy(model.state_dict())\n",
    "                torch.save(best_model_state_dict, 'saved_model/{}.ckpt.test'.format(model_type))\n",
    "\n",
    "                print(\"[Valid] BCE loss: {:.5f}, Accuracy: {:.3f}\\t**best model is updated.**\"\n",
    "                      .format(loss_cm, acc))\n",
    "            else:\n",
    "                print(\"[Valid] BCE loss: {:.5f}, Accuracy: {:.3f}\\t(not decreasing for {}/{})\"\n",
    "                      .format(loss_cm, acc, not_decreasing_for, max_patience))\n",
    "\n",
    "            not_decreasing_for = epoch - best_epoch\n",
    "\n",
    "            if not_decreasing_for > max_patience:\n",
    "                break\n",
    "                \n",
    "                \n",
    "print()\n",
    "print('After learning...')\n",
    "model.load_state_dict(best_model_state_dict)\n",
    "with torch.no_grad():\n",
    "    loss_cm = 0\n",
    "    correct_results_sum = 0\n",
    "    total_cm_samples = 0\n",
    "    y_true, y_score = [], []\n",
    "    for te_X, te_Y in test_loader:\n",
    "        \n",
    "        out = model(te_X)\n",
    "        \n",
    "        loss_bce = loss_task_func(out, te_Y.unsqueeze(-1))\n",
    "\n",
    "        loss_cm += (loss_bce.item() * out.numel())\n",
    "        y_true += te_Y.view(-1,).tolist()\n",
    "        y_score += out.view(-1,).tolist()\n",
    "        total_cm_samples += out.numel()\n",
    "        \n",
    "loss_cm /= total_cm_samples\n",
    "y_true = np.array(y_test)\n",
    "y_score = np.array(y_score)\n",
    "y_pred = np.round(np.array(y_score))    # classification\n",
    "\n",
    "if model_type not in model_types:\n",
    "    model_types.append(model_type) \n",
    "acc_dict[model_type], prec_dict[model_type], recall_dict[model_type], fpr_dict[model_type], tpr_dict[model_type], roc_auc_dict[model_type] = get_metrics(y_true, y_pred, y_score)\n",
    "print('[{}] Accuracy: {:.2f} %'.format(model_type, 100*acc_dict[model_type]))"
   ]
  },
  {
   "cell_type": "code",
   "execution_count": 44,
   "metadata": {},
   "outputs": [
    {
     "data": {
      "text/plain": [
       "Sequential(\n",
       "  (0): Linear(in_features=19, out_features=100, bias=True)\n",
       "  (1): ReLU()\n",
       "  (2): Linear(in_features=100, out_features=1, bias=True)\n",
       "  (3): Sigmoid()\n",
       ")"
      ]
     },
     "execution_count": 44,
     "metadata": {},
     "output_type": "execute_result"
    }
   ],
   "source": [
    "model"
   ]
  },
  {
   "cell_type": "code",
   "execution_count": 50,
   "metadata": {},
   "outputs": [],
   "source": [
    "regularization_loss = 0\n",
    "for param in model.parameters():\n",
    "    regularization_loss += torch.sum(torch.abs(param))"
   ]
  },
  {
   "cell_type": "code",
   "execution_count": 56,
   "metadata": {},
   "outputs": [
    {
     "data": {
      "text/plain": [
       "tensor(65.4434, device='cuda:0', grad_fn=<AddBackward0>)"
      ]
     },
     "execution_count": 56,
     "metadata": {},
     "output_type": "execute_result"
    }
   ],
   "source": [
    "regularization_loss"
   ]
  },
  {
   "cell_type": "code",
   "execution_count": 61,
   "metadata": {},
   "outputs": [
    {
     "data": {
      "text/plain": [
       "{'logistic': 0.7222142857142857,\n",
       " 'knn': 0.6491428571428571,\n",
       " 'dtree': 0.7297142857142858,\n",
       " 'mlp': 0.7407142857142858,\n",
       " 'mlp-torch': 0.7324285714285714}"
      ]
     },
     "execution_count": 61,
     "metadata": {},
     "output_type": "execute_result"
    }
   ],
   "source": [
    "acc_dict"
   ]
  },
  {
   "cell_type": "code",
   "execution_count": 66,
   "metadata": {},
   "outputs": [
    {
     "data": {
      "text/plain": [
       "{'logistic': 0.7866204851704054,\n",
       " 'knn': 0.6924500553634281,\n",
       " 'dtree': 0.7785489818582325,\n",
       " 'mlp': 0.8002411476474542,\n",
       " 'mlp-torch': 0.7841632126429106}"
      ]
     },
     "execution_count": 66,
     "metadata": {},
     "output_type": "execute_result"
    }
   ],
   "source": [
    "roc_auc_dict"
   ]
  },
  {
   "cell_type": "code",
   "execution_count": 88,
   "metadata": {},
   "outputs": [
    {
     "data": {
      "text/plain": [
       "tensor(0.7004, device='cuda:0')"
      ]
     },
     "execution_count": 88,
     "metadata": {},
     "output_type": "execute_result"
    }
   ],
   "source": [
    "acc"
   ]
  },
  {
   "cell_type": "code",
   "execution_count": null,
   "metadata": {},
   "outputs": [],
   "source": []
  },
  {
   "cell_type": "code",
   "execution_count": null,
   "metadata": {},
   "outputs": [],
   "source": []
  },
  {
   "cell_type": "code",
   "execution_count": null,
   "metadata": {},
   "outputs": [],
   "source": []
  },
  {
   "cell_type": "code",
   "execution_count": null,
   "metadata": {},
   "outputs": [],
   "source": []
  },
  {
   "cell_type": "code",
   "execution_count": null,
   "metadata": {},
   "outputs": [],
   "source": []
  }
 ],
 "metadata": {
  "environment": {
   "name": "pytorch-gpu.1-6.m59",
   "type": "gcloud",
   "uri": "gcr.io/deeplearning-platform-release/pytorch-gpu.1-6:m59"
  },
  "kernelspec": {
   "display_name": "Python [conda env:root] *",
   "language": "python",
   "name": "conda-root-py"
  },
  "language_info": {
   "codemirror_mode": {
    "name": "ipython",
    "version": 3
   },
   "file_extension": ".py",
   "mimetype": "text/x-python",
   "name": "python",
   "nbconvert_exporter": "python",
   "pygments_lexer": "ipython3",
   "version": "3.7.8"
  }
 },
 "nbformat": 4,
 "nbformat_minor": 4
}
