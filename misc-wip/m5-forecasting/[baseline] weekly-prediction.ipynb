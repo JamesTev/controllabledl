{
 "cells": [
  {
   "cell_type": "markdown",
   "metadata": {},
   "source": [
    "# Weekly demand-prediction with perturbed prices"
   ]
  },
  {
   "cell_type": "markdown",
   "metadata": {},
   "source": [
    "## Model and training\n",
    "- `wm_yr_wk`: 11130 - 11612 (d_1 - d_1911)\n",
    "- Data shape\n",
    "    - \\# of dense columns: 12\n",
    "    - \\# of cat columns: 5\n",
    "- Data split\n",
    "    - train: `wm_yr_wk` 11130 - 11604\n",
    "    - valid: `wm_yr_wk` 11605 - 11608 (4 weeks)\n",
    "    - test: `wm_yr_wk` 11609 - 11612 (4 weeks)\n",
    "\n",
    "## Baselines\n",
    "- Linear models\n",
    "    - Ordinary least squares (OLS)\n",
    "    - "
   ]
  },
  {
   "cell_type": "code",
   "execution_count": 1,
   "metadata": {},
   "outputs": [
    {
     "data": {
      "text/plain": [
       "0"
      ]
     },
     "execution_count": 1,
     "metadata": {},
     "output_type": "execute_result"
    }
   ],
   "source": [
    "%matplotlib inline\n",
    "%load_ext autoreload\n",
    "%autoreload 2\n",
    "import warnings\n",
    "warnings.filterwarnings('ignore')\n",
    "from ipywidgets import interact, interactive, fixed, interact_manual\n",
    "import ipywidgets as widgets\n",
    "\n",
    "import gc\n",
    "import os\n",
    "import importlib\n",
    "\n",
    "import pandas as pd\n",
    "import numpy as np\n",
    "\n",
    "import matplotlib.pyplot as plt\n",
    "\n",
    "import utils\n",
    "\n",
    "datapath = 'data'\n",
    "weekly_filename = 'week_price_demand_corr-0.6.csv'\n",
    "\n",
    "df_input = pd.read_csv(os.path.join(datapath, weekly_filename), index_col=0)\n",
    "df_input.head()\n",
    "\n",
    "week_dense_cols = ['week_sell_price', 'week_sell_price_rel_diff', 'week_sell_price_roll_sd7', 'week_sell_price_cumrel', \n",
    "                   'week_lag_t28', 'week_rolling_mean_t7', 'week_rolling_mean_t30', 'week_rolling_mean_t60', 'week_rolling_mean_t90', \n",
    "                   'week_rolling_mean_t180', 'week_rolling_std_t7', 'week_rolling_std_t30']\n",
    "cat_cols = ['item_id', 'dept_id', 'store_id', 'cat_id', 'state_id']\n",
    "\n",
    "\n",
    "target_scaler = 10.\n",
    "\n",
    "# Rest is used for training\n",
    "flag = df_input['wm_yr_wk'] < 11605\n",
    "train_x = utils.make_X(df_input[flag], week_dense_cols, cat_cols)\n",
    "train_y = df_input['week_sum_demand'][flag]/target_scaler\n",
    "\n",
    "# One month of validation data\n",
    "flag = (df_input['wm_yr_wk'] < 11609) & (df_input['wm_yr_wk'] >= 11605)\n",
    "valid_x = utils.make_X(df_input[flag], week_dense_cols, cat_cols)\n",
    "valid_y = df_input['week_sum_demand'][flag]/target_scaler\n",
    "\n",
    "# Submission data\n",
    "flag = df_input['wm_yr_wk'] >= 11609\n",
    "test_x = utils.make_X(df_input[flag], week_dense_cols, cat_cols)\n",
    "test_y = df_input['week_sum_demand'][flag]/target_scaler\n",
    "\n",
    "del flag\n",
    "gc.collect()\n",
    "\n",
    "\n",
    "# data_info = {'item_id': 262, 'dept_id': 7, 'store_id': 10, 'cat_id': 3, 'state_id': 3, 'dense1': 12}\n",
    "# data_info = {'dense1': 12}"
   ]
  },
  {
   "cell_type": "markdown",
   "metadata": {},
   "source": [
    "## Data preprocessing for baselines"
   ]
  },
  {
   "cell_type": "code",
   "execution_count": 4,
   "metadata": {},
   "outputs": [
    {
     "name": "stdout",
     "output_type": "stream",
     "text": [
      "input shape: (92588, 12)\n"
     ]
    }
   ],
   "source": [
    "from sklearn.preprocessing import OneHotEncoder\n",
    "\n",
    "def merge_one_hot_encodings(dict_input):\n",
    "    tmp = np.concatenate((dict_input['item_id'], \n",
    "                          dict_input['dept_id'], \n",
    "                          dict_input['store_id'], \n",
    "                          dict_input['cat_id'], \n",
    "                          dict_input['state_id']), axis=1)\n",
    "    enc = OneHotEncoder(handle_unknown='ignore')\n",
    "    ret = enc.fit_transform(tmp).toarray()\n",
    "    \n",
    "    return ret, enc\n",
    "\n",
    "\n",
    "dense_only = True\n",
    "\n",
    "if dense_only:\n",
    "    train_x_np = np.copy(train_x['dense1'])\n",
    "    valid_x_np = np.copy(valid_x['dense1'])\n",
    "    test_x_np = np.copy(test_x['dense1'])\n",
    "\n",
    "else:\n",
    "    train_x_np, _ = merge_one_hot_encodings(train_x)\n",
    "    train_x_np = np.concatenate((train_x['dense1'], train_x_np), axis=1)\n",
    "    valid_x_np, _ = merge_one_hot_encodings(valid_x)\n",
    "    valid_x_np = np.concatenate((valid_x['dense1'], valid_x_np), axis=1)\n",
    "    test_x_np, _ = merge_one_hot_encodings(test_x)\n",
    "    test_x_np = np.concatenate((test_x['dense1'], test_x_np), axis=1)\n",
    "\n",
    "train_y_np = train_y.to_numpy()\n",
    "valid_y_np = valid_y.to_numpy()\n",
    "test_y_np = test_y.to_numpy()\n",
    "\n",
    "# Perturbations on price\n",
    "pert_test_x = test_x_np.copy()\n",
    "perturbations = 1.0*np.random.rand(test_x_np.shape[0])    # small positive price\n",
    "pert_test_x[:,0] += perturbations    # 0-th feature : week_sell_price\n",
    "\n",
    "print('input shape: {}'.format(train_x_np.shape))"
   ]
  },
  {
   "cell_type": "markdown",
   "metadata": {},
   "source": [
    "## Scikit baselines"
   ]
  },
  {
   "cell_type": "code",
   "execution_count": 5,
   "metadata": {},
   "outputs": [
    {
     "name": "stdout",
     "output_type": "stream",
     "text": [
      "# features :  12\n",
      "Mean squared error: 1.746139\n",
      "Mean absolute error: 0.686966\n",
      "Coefficient of determination: 0.86\n",
      "Verification ratio:  0.0\n",
      "[ 0.01377761 -1.47494848  1.27740469 -0.30086065  0.24735449  0.12829645\n",
      " -0.01002813  0.19871382 -0.04749313  0.13815571 -0.04486083  0.06021513] 0.0\n"
     ]
    }
   ],
   "source": [
    "\"\"\"\n",
    "Ordinary least squares\n",
    "\"\"\"\n",
    "from sklearn.linear_model import LinearRegression\n",
    "from sklearn.metrics import mean_squared_error, r2_score, mean_absolute_error\n",
    "\n",
    "from utils_metric import verification\n",
    "\n",
    "reg = LinearRegression(normalize=False, fit_intercept=False).fit(train_x_np, train_y_np)\n",
    "\n",
    "output = reg.predict(test_x_np)\n",
    "\n",
    "print('# features : ', train_x_np.shape[1])\n",
    "\n",
    "print('Mean squared error: %.6f' % mean_squared_error(test_y_np, output))\n",
    "print('Mean absolute error: %.6f' % mean_absolute_error(test_y_np, output))\n",
    "# The coefficient of determination: 1 is perfect prediction\n",
    "print('Coefficient of determination: %.2f' % r2_score(test_y_np, output))\n",
    "\n",
    "# Perturbed input and output\n",
    "pert_output = reg.predict(pert_test_x)    # \\hat{y}_{p}    predicted sales from perturbed input\n",
    "test_ratio = verification(output, pert_output, threshold=0.0).item()\n",
    "\n",
    "print('Verification ratio: ', test_ratio)\n",
    "if len(reg.coef_) < 20: print(reg.coef_, reg.intercept_)"
   ]
  },
  {
   "cell_type": "code",
   "execution_count": 13,
   "metadata": {},
   "outputs": [
    {
     "name": "stdout",
     "output_type": "stream",
     "text": [
      "Mean squared error: 1.740464\n",
      "Mean absolute error: 0.687433\n",
      "Verification ratio:  1.0\n",
      "Verification ratio:  1.0\n",
      "[-4.98498054e-03 -1.35675165e+00  1.27943714e+00 -5.08191173e-01\n",
      "  2.46342112e-01  1.31877150e-01 -4.18160592e-04  1.98473372e-01\n",
      " -4.58117746e-02  1.31622401e-01 -5.53804384e-02  3.32631310e-02] 0.18683719627383244\n"
     ]
    }
   ],
   "source": [
    "'''\n",
    "ridge / lasso\n",
    "'''\n",
    "\n",
    "from sklearn import linear_model\n",
    "\n",
    "reg = linear_model.Ridge(alpha=0.01).fit(train_x_np, train_y_np)\n",
    "# reg = linear_model.Lasso(alpha=0.01).fit(train_x_np, train_y_np)\n",
    "\n",
    "output = reg.predict(test_x_np)\n",
    "\n",
    "print('Mean squared error: %.6f' % mean_squared_error(test_y_np, output))\n",
    "print('Mean absolute error: %.6f' % mean_absolute_error(test_y_np, output))\n",
    "\n",
    "# Perturbed input and output\n",
    "pert_output = reg.predict(pert_test_x)    # \\hat{y}_{p}    predicted sales from perturbed input\n",
    "test_ratio = verification(output, pert_output, threshold=0.0).item()\n",
    "\n",
    "print('Verification ratio: ', test_ratio)\n",
    "\n",
    "print('Verification ratio: ', test_ratio)\n",
    "if len(reg.coef_) < 20: print(reg.coef_, reg.intercept_)"
   ]
  },
  {
   "cell_type": "code",
   "execution_count": 14,
   "metadata": {},
   "outputs": [
    {
     "name": "stdout",
     "output_type": "stream",
     "text": [
      "Mean squared error: 1.704671\n",
      "Mean absolute error: 0.673618\n",
      "Verification ratio:  0.1817180616740088\n"
     ]
    }
   ],
   "source": [
    "'''\n",
    "Gradient boosting\n",
    "'''\n",
    "from sklearn.ensemble import GradientBoostingRegressor\n",
    "\n",
    "reg = GradientBoostingRegressor(random_state=0).fit(train_x_np, train_y_np)\n",
    "\n",
    "output = reg.predict(test_x_np)\n",
    "\n",
    "print('Mean squared error: %.6f' % mean_squared_error(test_y_np, output))\n",
    "print('Mean absolute error: %.6f' % mean_absolute_error(test_y_np, output))\n",
    "\n",
    "# Perturbed input and output\n",
    "pert_output = reg.predict(pert_test_x)    # \\hat{y}_{p}    predicted sales from perturbed input\n",
    "test_ratio = verification(output, pert_output, threshold=0.0).item()\n",
    "\n",
    "print('Verification ratio: ', test_ratio)"
   ]
  },
  {
   "cell_type": "code",
   "execution_count": 499,
   "metadata": {},
   "outputs": [
    {
     "data": {
      "text/plain": [
       "torch.Size([1816, 12])"
      ]
     },
     "execution_count": 499,
     "metadata": {},
     "output_type": "execute_result"
    }
   ],
   "source": []
  },
  {
   "cell_type": "code",
   "execution_count": 359,
   "metadata": {},
   "outputs": [
    {
     "name": "stdout",
     "output_type": "stream",
     "text": [
      "Mean squared error: 1.677435\n",
      "Mean absolute error: 0.667688\n",
      "Verification ratio:  0.1866740088105727\n"
     ]
    }
   ],
   "source": []
  },
  {
   "cell_type": "markdown",
   "metadata": {},
   "source": [
    "## PyTorch data preprocessing"
   ]
  },
  {
   "cell_type": "code",
   "execution_count": 16,
   "metadata": {},
   "outputs": [],
   "source": [
    "import torch\n",
    "from torch.utils.data import DataLoader, TensorDataset\n",
    "\n",
    "device = torch.device(\"cuda:3\")\n",
    "dtype = torch.double\n",
    "\n",
    "train_x_torch = torch.tensor(train_x_np, device=device, dtype=dtype)\n",
    "train_y_torch = torch.tensor(train_y_np, device=device, dtype=dtype)\n",
    "\n",
    "valid_x_torch = torch.tensor(valid_x_np, device=device, dtype=dtype)\n",
    "valid_y_torch = torch.tensor(valid_y_np, device=device, dtype=dtype)\n",
    "\n",
    "test_x_torch = torch.tensor(test_x_np, device=device, dtype=dtype)\n",
    "test_y_torch = torch.tensor(test_y_np, device=device, dtype=dtype)\n",
    "\n",
    "train_loader = DataLoader(TensorDataset(train_x_torch, train_y_torch),\n",
    "                          batch_size=128, shuffle=False)"
   ]
  },
  {
   "cell_type": "markdown",
   "metadata": {},
   "source": [
    "## PyTorch Linear regression"
   ]
  },
  {
   "cell_type": "code",
   "execution_count": 384,
   "metadata": {
    "scrolled": true
   },
   "outputs": [
    {
     "name": "stdout",
     "output_type": "stream",
     "text": [
      "total parameters in LinearRegression: 13\n",
      "saved_filename: saved_models/m5_LR_weekly_demand_pred_with_pert_price.pt\n",
      "\n",
      "[Train] Epoch: 0, loss: 0.206827\n",
      "[Valid] Epoch: 0 Loss: 2.140066\t best model is updated %%%%\n",
      "[Train] Epoch: 1, loss: 0.065689\n",
      "[Train] Epoch: 2, loss: 0.055437\n",
      "[Train] Epoch: 3, loss: 0.051835\n",
      "[Train] Epoch: 4, loss: 0.049711\n",
      "[Train] Epoch: 5, loss: 0.048090\n",
      "[Valid] Epoch: 5 Loss: 2.094877\t best model is updated %%%%\n",
      "[Train] Epoch: 6, loss: 0.046627\n",
      "[Train] Epoch: 7, loss: 0.045197\n",
      "[Train] Epoch: 8, loss: 0.043757\n",
      "[Train] Epoch: 9, loss: 0.042301\n",
      "[Train] Epoch: 10, loss: 0.040835\n",
      "[Valid] Epoch: 10 Loss: 2.076462\t best model is updated %%%%\n",
      "[Train] Epoch: 11, loss: 0.039374\n",
      "[Train] Epoch: 12, loss: 0.037931\n",
      "[Train] Epoch: 13, loss: 0.036521\n",
      "[Train] Epoch: 14, loss: 0.035154\n",
      "[Train] Epoch: 15, loss: 0.033840\n",
      "[Valid] Epoch: 15 Loss: 2.069025\t best model is updated %%%%\n",
      "[Train] Epoch: 16, loss: 0.032586\n",
      "[Train] Epoch: 17, loss: 0.031396\n",
      "[Train] Epoch: 18, loss: 0.030272\n",
      "[Train] Epoch: 19, loss: 0.029216\n",
      "[Train] Epoch: 20, loss: 0.028227\n",
      "[Valid] Epoch: 20 Loss: 2.065790\t best model is updated %%%%\n",
      "[Train] Epoch: 21, loss: 0.027305\n",
      "[Train] Epoch: 22, loss: 0.026445\n",
      "[Train] Epoch: 23, loss: 0.025647\n",
      "[Train] Epoch: 24, loss: 0.024908\n",
      "[Train] Epoch: 25, loss: 0.024223\n",
      "[Valid] Epoch: 25 Loss: 2.064286\t best model is updated %%%%\n",
      "[Train] Epoch: 26, loss: 0.023590\n",
      "[Train] Epoch: 27, loss: 0.023005\n",
      "[Train] Epoch: 28, loss: 0.022465\n",
      "[Train] Epoch: 29, loss: 0.021967\n",
      "[Train] Epoch: 30, loss: 0.021509\n",
      "[Valid] Epoch: 30 Loss: 2.063593\t best model is updated %%%%\n",
      "[Train] Epoch: 31, loss: 0.021086\n",
      "[Train] Epoch: 32, loss: 0.020696\n",
      "[Train] Epoch: 33, loss: 0.020337\n",
      "[Train] Epoch: 34, loss: 0.020006\n",
      "[Train] Epoch: 35, loss: 0.019701\n",
      "[Valid] Epoch: 35 Loss: 2.063311\t best model is updated %%%%\n",
      "[Train] Epoch: 36, loss: 0.019420\n",
      "[Train] Epoch: 37, loss: 0.019161\n",
      "[Train] Epoch: 38, loss: 0.018922\n",
      "[Train] Epoch: 39, loss: 0.018703\n",
      "[Train] Epoch: 40, loss: 0.018500\n",
      "[Valid] Epoch: 40 Loss: 2.063252\t best model is updated %%%%\n",
      "[Train] Epoch: 41, loss: 0.018313\n",
      "[Train] Epoch: 42, loss: 0.018140\n",
      "[Train] Epoch: 43, loss: 0.017981\n",
      "[Train] Epoch: 44, loss: 0.017834\n",
      "[Train] Epoch: 45, loss: 0.017698\n",
      "[Valid] Epoch: 45 Loss: 2.063316\n",
      "[Train] Epoch: 46, loss: 0.017573\n",
      "[Train] Epoch: 47, loss: 0.017458\n",
      "[Train] Epoch: 48, loss: 0.017351\n",
      "[Train] Epoch: 49, loss: 0.017252\n",
      "[Train] Epoch: 50, loss: 0.017160\n",
      "[Valid] Epoch: 50 Loss: 2.063447\n",
      "[Train] Epoch: 51, loss: 0.017076\n",
      "[Train] Epoch: 52, loss: 0.016998\n",
      "[Train] Epoch: 53, loss: 0.016926\n",
      "[Train] Epoch: 54, loss: 0.016859\n",
      "[Train] Epoch: 55, loss: 0.016797\n",
      "[Valid] Epoch: 55 Loss: 2.063619\n",
      "[Train] Epoch: 56, loss: 0.016739\n",
      "[Train] Epoch: 57, loss: 0.016686\n",
      "[Train] Epoch: 58, loss: 0.016637\n",
      "[Train] Epoch: 59, loss: 0.016591\n",
      "[Train] Epoch: 60, loss: 0.016549\n",
      "[Valid] Epoch: 60 Loss: 2.063815\n",
      "[Train] Epoch: 61, loss: 0.016510\n",
      "[Train] Epoch: 62, loss: 0.016473\n",
      "[Train] Epoch: 63, loss: 0.016440\n",
      "[Train] Epoch: 64, loss: 0.016408\n",
      "[Train] Epoch: 65, loss: 0.016379\n",
      "[Valid] Epoch: 65 Loss: 2.064023\n",
      "[Train] Epoch: 66, loss: 0.016352\n",
      "[Train] Epoch: 67, loss: 0.016327\n",
      "[Train] Epoch: 68, loss: 0.016304\n",
      "[Train] Epoch: 69, loss: 0.016282\n",
      "[Train] Epoch: 70, loss: 0.016262\n",
      "[Valid] Epoch: 70 Loss: 2.064233\n",
      "[Train] Epoch: 71, loss: 0.016243\n",
      "[Train] Epoch: 72, loss: 0.016225\n",
      "[Train] Epoch: 73, loss: 0.016209\n",
      "[Train] Epoch: 74, loss: 0.016194\n",
      "[Train] Epoch: 75, loss: 0.016180\n",
      "[Valid] Epoch: 75 Loss: 2.064441\n",
      "[Train] Epoch: 76, loss: 0.016166\n",
      "[Train] Epoch: 77, loss: 0.016154\n",
      "[Train] Epoch: 78, loss: 0.016142\n",
      "[Train] Epoch: 79, loss: 0.016132\n",
      "[Train] Epoch: 80, loss: 0.016122\n",
      "[Valid] Epoch: 80 Loss: 2.064644\n",
      "[Train] Epoch: 81, loss: 0.016112\n",
      "[Train] Epoch: 82, loss: 0.016103\n",
      "[Train] Epoch: 83, loss: 0.016095\n",
      "[Train] Epoch: 84, loss: 0.016087\n",
      "[Train] Epoch: 85, loss: 0.016080\n",
      "[Valid] Epoch: 85 Loss: 2.064841\n",
      "[Train] Epoch: 86, loss: 0.016073\n",
      "[Train] Epoch: 87, loss: 0.016067\n",
      "[Train] Epoch: 88, loss: 0.016061\n",
      "[Train] Epoch: 89, loss: 0.016055\n",
      "[Train] Epoch: 90, loss: 0.016049\n",
      "[Valid] Epoch: 90 Loss: 2.065029\n",
      "[Train] Epoch: 91, loss: 0.016044\n",
      "[Train] Epoch: 92, loss: 0.016040\n",
      "[Train] Epoch: 93, loss: 0.016035\n",
      "[Train] Epoch: 94, loss: 0.016031\n",
      "[Train] Epoch: 95, loss: 0.016027\n",
      "[Valid] Epoch: 95 Loss: 2.065208\n",
      "[Train] Epoch: 96, loss: 0.016023\n",
      "[Train] Epoch: 97, loss: 0.016019\n",
      "[Train] Epoch: 98, loss: 0.016016\n",
      "[Train] Epoch: 99, loss: 0.016012\n",
      "best model loss: 2.063252\t at epoch: 40\n",
      "\n",
      "Test set: Average loss: 2.11730426\n",
      "\n"
     ]
    }
   ],
   "source": [
    "from model_baselines import LinearRegression\n",
    "\n",
    "\n",
    "\n",
    "input_dim = train_x_torch.shape[1]\n",
    "output_dim = 1\n",
    "\n",
    "model_lr = LinearRegression(input_dim, output_dim).to(dtype).to(device)\n",
    "total_params = sum(p.numel() for p in model_lr.parameters())\n",
    "print(\"total parameters in LinearRegression: {}\".format(total_params))\n",
    "\n",
    "loss_task = nn.L1Loss()\n",
    "# loss_task = nn.L2Loss()\n",
    "lr = 0.001\n",
    "optimizer = optim.Adam(model_lr.parameters(), lr=lr)\n",
    "# optimizer = optim.SGD(model_lr.parameters(), lr=lr)\n",
    "\n",
    "epochs = 50\n",
    "val_freq = 5\n",
    "best_val_loss = float('inf')\n",
    "\n",
    "saved_filename = 'm5_LR_weekly_demand_pred_with_pert_price.pt'\n",
    "saved_filename =  os.path.join('saved_models', saved_filename)\n",
    "print('saved_filename: {}\\n'.format(saved_filename))\n",
    "\n",
    "for epoch in range(epochs):\n",
    "    for batch_idx, batch_data in enumerate(train_loader):\n",
    "        batch_train_x = batch_data[0]    # input features\n",
    "        batch_train_y = batch_data[1]\n",
    "        \n",
    "        optimizer.zero_grad()\n",
    "\n",
    "        output = model_lr(batch_train_x)\n",
    "#         loss = loss_task(output, batch_train_y)\n",
    "        loss = nn.MSELoss()(output, batch_train_y)\n",
    "\n",
    "        loss.backward()\n",
    "        optimizer.step()\n",
    "    \n",
    "    print('[Train] Epoch: {}, loss: {:.6f}'.format(epoch, loss.item()))\n",
    "    \n",
    "    # Evaluate on validation set\n",
    "    if epoch % val_freq == 0:\n",
    "        model_lr.eval()\n",
    "        with torch.no_grad():\n",
    "            output = model_lr(valid_x_torch)\n",
    "            val_loss = loss_task(output, valid_y_torch).item()\n",
    "            \n",
    "        if val_loss < best_val_loss:\n",
    "            best_val_loss = val_loss\n",
    "            print('[Valid] Epoch: {} Loss: {:.6f}\\t best model is updated %%%%'\n",
    "                  .format(epoch, best_val_loss))\n",
    "            torch.save({\n",
    "                'epoch': epoch,\n",
    "                'model_state_dict':model_lr.state_dict(),\n",
    "                'optimizer_state_dict': optimizer.state_dict(),\n",
    "                'loss': best_val_loss\n",
    "            }, saved_filename)\n",
    "        else:\n",
    "            print('[Valid] Epoch: {} Loss: {:.6f}'.format(epoch, val_loss))\n",
    "            \n",
    "model_eval = LinearRegression(input_dim, output_dim).to(dtype).to(device)\n",
    "checkpoint = torch.load(saved_filename)\n",
    "model_eval.load_state_dict(checkpoint['model_state_dict'])\n",
    "print(\"best model loss: {:.6f}\\t at epoch: {}\".format(checkpoint['loss'], checkpoint['epoch']))\n",
    "\n",
    "model_eval.eval()\n",
    "with torch.no_grad():\n",
    "    output = model_eval(test_x_torch)\n",
    "    test_loss = loss_task(output, test_y_torch).item()  # sum up batch loss\n",
    "\n",
    "print('\\nTest set: Average loss: {:.8f}\\n'.format(test_loss))"
   ]
  },
  {
   "cell_type": "markdown",
   "metadata": {},
   "source": [
    "## PyTorch implementation"
   ]
  },
  {
   "cell_type": "code",
   "execution_count": 17,
   "metadata": {},
   "outputs": [
    {
     "name": "stdout",
     "output_type": "stream",
     "text": [
      "data size: 92588/1816/1816\n"
     ]
    }
   ],
   "source": [
    "'''\n",
    "Data preprocessing for NN\n",
    "'''\n",
    "import torch\n",
    "import torch.nn as nn\n",
    "import torch.nn.functional as F\n",
    "import torch.optim as optim\n",
    "\n",
    "from torch.utils.data import DataLoader, TensorDataset\n",
    "\n",
    "device = torch.device(\"cuda:3\")\n",
    "dtype = torch.double\n",
    "\n",
    "def tensorize(dict_input, device='cpu'):\n",
    "    for key, item in dict_input.items():\n",
    "        if key == 'dense1':\n",
    "            dict_input[key] = torch.tensor(item, dtype=dtype, device=device)\n",
    "        else:\n",
    "            dict_input[key] = torch.tensor(item, dtype=torch.int64, device=device)\n",
    "\n",
    "# Tensorize\n",
    "tensorize(train_x, device)\n",
    "tensorize(valid_x, device)\n",
    "tensorize(test_x, device)\n",
    "\n",
    "if not isinstance(train_y, torch.Tensor):\n",
    "    train_y = torch.tensor(train_y.to_numpy(), device=device, dtype=dtype)\n",
    "    valid_y = torch.tensor(valid_y.to_numpy(), device=device, dtype=dtype)\n",
    "    test_y = torch.tensor(test_y.to_numpy(), device=device, dtype=dtype)\n",
    "\n",
    "\n",
    "name_to_ind = {'dense1': 0, 'item_id': 1, 'dept_id': 2, 'store_id': 3, 'cat_id': 4, 'state_id': 5}\n",
    "\n",
    "if dense_only:\n",
    "    train_loader = DataLoader(TensorDataset(train_x['dense1'], train_y), batch_size=128, shuffle=False)\n",
    "    valid_x_list = [valid_x['dense1']]\n",
    "    test_x_list = [test_x['dense1']]\n",
    "    data_info = {'dense1': 12}\n",
    "    \n",
    "else:\n",
    "    train_loader = DataLoader(TensorDataset(train_x['dense1'], \n",
    "                                            train_x['item_id'].squeeze(), \n",
    "                                            train_x['dept_id'].squeeze(), \n",
    "                                            train_x['store_id'].squeeze(), \n",
    "                                            train_x['cat_id'].squeeze(), \n",
    "                                            train_x['state_id'].squeeze(),\n",
    "                                            train_y),\n",
    "                              batch_size=128, shuffle=False)\n",
    "    valid_x_list = [valid_x['dense1'], valid_x['item_id'].squeeze(), valid_x['dept_id'].squeeze(), \n",
    "                    valid_x['store_id'].squeeze(), valid_x['cat_id'].squeeze(), valid_x['state_id'].squeeze()]\n",
    "    test_x_list = [test_x['dense1'], test_x['item_id'].squeeze(), test_x['dept_id'].squeeze(), \n",
    "                   test_x['store_id'].squeeze(), test_x['cat_id'].squeeze(), test_x['state_id'].squeeze()]\n",
    "    data_info = {'item_id': 262, 'dept_id': 7, 'store_id': 10, 'cat_id': 3, 'state_id': 3, 'dense1': 12}\n",
    "    \n",
    "\n",
    "\n",
    "print(\"data size: {}/{}/{}\".format(len(train_y), len(valid_y), len(test_y)))"
   ]
  },
  {
   "cell_type": "code",
   "execution_count": 21,
   "metadata": {
    "scrolled": true
   },
   "outputs": [
    {
     "name": "stdout",
     "output_type": "stream",
     "text": [
      "total parameters: 5921\n",
      "saved_filename: saved_models/m5_data-only_weekly_demand_pred_with_pert_price_denseonly.pt\n",
      "\n",
      "[Train] Epoch: 1 [0/92588 (0%)]\tLoss: 1.984046 (alpha: 0.0000)\n"
     ]
    },
    {
     "ename": "KeyboardInterrupt",
     "evalue": "",
     "output_type": "error",
     "traceback": [
      "\u001b[0;31m---------------------------------------------------------------------------\u001b[0m",
      "\u001b[0;31mKeyboardInterrupt\u001b[0m                         Traceback (most recent call last)",
      "\u001b[0;32m<ipython-input-21-6af554349d90>\u001b[0m in \u001b[0;36m<module>\u001b[0;34m\u001b[0m\n\u001b[1;32m     45\u001b[0m \u001b[0;32mfor\u001b[0m \u001b[0mepoch\u001b[0m \u001b[0;32min\u001b[0m \u001b[0mrange\u001b[0m\u001b[0;34m(\u001b[0m\u001b[0;36m1\u001b[0m\u001b[0;34m,\u001b[0m \u001b[0mepochs\u001b[0m\u001b[0;34m+\u001b[0m\u001b[0;36m1\u001b[0m\u001b[0;34m)\u001b[0m\u001b[0;34m:\u001b[0m\u001b[0;34m\u001b[0m\u001b[0;34m\u001b[0m\u001b[0m\n\u001b[1;32m     46\u001b[0m     \u001b[0mmodel\u001b[0m\u001b[0;34m.\u001b[0m\u001b[0mtrain\u001b[0m\u001b[0;34m(\u001b[0m\u001b[0;34m)\u001b[0m\u001b[0;34m\u001b[0m\u001b[0;34m\u001b[0m\u001b[0m\n\u001b[0;32m---> 47\u001b[0;31m     \u001b[0;32mfor\u001b[0m \u001b[0mbatch_idx\u001b[0m\u001b[0;34m,\u001b[0m \u001b[0mbatch_data\u001b[0m \u001b[0;32min\u001b[0m \u001b[0menumerate\u001b[0m\u001b[0;34m(\u001b[0m\u001b[0mtrain_loader\u001b[0m\u001b[0;34m)\u001b[0m\u001b[0;34m:\u001b[0m\u001b[0;34m\u001b[0m\u001b[0;34m\u001b[0m\u001b[0m\n\u001b[0m\u001b[1;32m     48\u001b[0m \u001b[0;34m\u001b[0m\u001b[0m\n\u001b[1;32m     49\u001b[0m         \u001b[0mbatch_train_x\u001b[0m \u001b[0;34m=\u001b[0m \u001b[0mbatch_data\u001b[0m\u001b[0;34m[\u001b[0m\u001b[0;34m:\u001b[0m\u001b[0;34m-\u001b[0m\u001b[0;36m1\u001b[0m\u001b[0;34m]\u001b[0m    \u001b[0;31m# input features\u001b[0m\u001b[0;34m\u001b[0m\u001b[0;34m\u001b[0m\u001b[0m\n",
      "\u001b[0;32m/opt/conda/envs/tf2/lib/python3.6/site-packages/torch/utils/data/dataloader.py\u001b[0m in \u001b[0;36m__next__\u001b[0;34m(self)\u001b[0m\n\u001b[1;32m    343\u001b[0m \u001b[0;34m\u001b[0m\u001b[0m\n\u001b[1;32m    344\u001b[0m     \u001b[0;32mdef\u001b[0m \u001b[0m__next__\u001b[0m\u001b[0;34m(\u001b[0m\u001b[0mself\u001b[0m\u001b[0;34m)\u001b[0m\u001b[0;34m:\u001b[0m\u001b[0;34m\u001b[0m\u001b[0;34m\u001b[0m\u001b[0m\n\u001b[0;32m--> 345\u001b[0;31m         \u001b[0mdata\u001b[0m \u001b[0;34m=\u001b[0m \u001b[0mself\u001b[0m\u001b[0;34m.\u001b[0m\u001b[0m_next_data\u001b[0m\u001b[0;34m(\u001b[0m\u001b[0;34m)\u001b[0m\u001b[0;34m\u001b[0m\u001b[0;34m\u001b[0m\u001b[0m\n\u001b[0m\u001b[1;32m    346\u001b[0m         \u001b[0mself\u001b[0m\u001b[0;34m.\u001b[0m\u001b[0m_num_yielded\u001b[0m \u001b[0;34m+=\u001b[0m \u001b[0;36m1\u001b[0m\u001b[0;34m\u001b[0m\u001b[0;34m\u001b[0m\u001b[0m\n\u001b[1;32m    347\u001b[0m         \u001b[0;32mif\u001b[0m \u001b[0mself\u001b[0m\u001b[0;34m.\u001b[0m\u001b[0m_dataset_kind\u001b[0m \u001b[0;34m==\u001b[0m \u001b[0m_DatasetKind\u001b[0m\u001b[0;34m.\u001b[0m\u001b[0mIterable\u001b[0m \u001b[0;32mand\u001b[0m\u001b[0;31m \u001b[0m\u001b[0;31m\\\u001b[0m\u001b[0;34m\u001b[0m\u001b[0;34m\u001b[0m\u001b[0m\n",
      "\u001b[0;32m/opt/conda/envs/tf2/lib/python3.6/site-packages/torch/utils/data/dataloader.py\u001b[0m in \u001b[0;36m_next_data\u001b[0;34m(self)\u001b[0m\n\u001b[1;32m    383\u001b[0m     \u001b[0;32mdef\u001b[0m \u001b[0m_next_data\u001b[0m\u001b[0;34m(\u001b[0m\u001b[0mself\u001b[0m\u001b[0;34m)\u001b[0m\u001b[0;34m:\u001b[0m\u001b[0;34m\u001b[0m\u001b[0;34m\u001b[0m\u001b[0m\n\u001b[1;32m    384\u001b[0m         \u001b[0mindex\u001b[0m \u001b[0;34m=\u001b[0m \u001b[0mself\u001b[0m\u001b[0;34m.\u001b[0m\u001b[0m_next_index\u001b[0m\u001b[0;34m(\u001b[0m\u001b[0;34m)\u001b[0m  \u001b[0;31m# may raise StopIteration\u001b[0m\u001b[0;34m\u001b[0m\u001b[0;34m\u001b[0m\u001b[0m\n\u001b[0;32m--> 385\u001b[0;31m         \u001b[0mdata\u001b[0m \u001b[0;34m=\u001b[0m \u001b[0mself\u001b[0m\u001b[0;34m.\u001b[0m\u001b[0m_dataset_fetcher\u001b[0m\u001b[0;34m.\u001b[0m\u001b[0mfetch\u001b[0m\u001b[0;34m(\u001b[0m\u001b[0mindex\u001b[0m\u001b[0;34m)\u001b[0m  \u001b[0;31m# may raise StopIteration\u001b[0m\u001b[0;34m\u001b[0m\u001b[0;34m\u001b[0m\u001b[0m\n\u001b[0m\u001b[1;32m    386\u001b[0m         \u001b[0;32mif\u001b[0m \u001b[0mself\u001b[0m\u001b[0;34m.\u001b[0m\u001b[0m_pin_memory\u001b[0m\u001b[0;34m:\u001b[0m\u001b[0;34m\u001b[0m\u001b[0;34m\u001b[0m\u001b[0m\n\u001b[1;32m    387\u001b[0m             \u001b[0mdata\u001b[0m \u001b[0;34m=\u001b[0m \u001b[0m_utils\u001b[0m\u001b[0;34m.\u001b[0m\u001b[0mpin_memory\u001b[0m\u001b[0;34m.\u001b[0m\u001b[0mpin_memory\u001b[0m\u001b[0;34m(\u001b[0m\u001b[0mdata\u001b[0m\u001b[0;34m)\u001b[0m\u001b[0;34m\u001b[0m\u001b[0;34m\u001b[0m\u001b[0m\n",
      "\u001b[0;32m/opt/conda/envs/tf2/lib/python3.6/site-packages/torch/utils/data/_utils/fetch.py\u001b[0m in \u001b[0;36mfetch\u001b[0;34m(self, possibly_batched_index)\u001b[0m\n\u001b[1;32m     45\u001b[0m         \u001b[0;32melse\u001b[0m\u001b[0;34m:\u001b[0m\u001b[0;34m\u001b[0m\u001b[0;34m\u001b[0m\u001b[0m\n\u001b[1;32m     46\u001b[0m             \u001b[0mdata\u001b[0m \u001b[0;34m=\u001b[0m \u001b[0mself\u001b[0m\u001b[0;34m.\u001b[0m\u001b[0mdataset\u001b[0m\u001b[0;34m[\u001b[0m\u001b[0mpossibly_batched_index\u001b[0m\u001b[0;34m]\u001b[0m\u001b[0;34m\u001b[0m\u001b[0;34m\u001b[0m\u001b[0m\n\u001b[0;32m---> 47\u001b[0;31m         \u001b[0;32mreturn\u001b[0m \u001b[0mself\u001b[0m\u001b[0;34m.\u001b[0m\u001b[0mcollate_fn\u001b[0m\u001b[0;34m(\u001b[0m\u001b[0mdata\u001b[0m\u001b[0;34m)\u001b[0m\u001b[0;34m\u001b[0m\u001b[0;34m\u001b[0m\u001b[0m\n\u001b[0m",
      "\u001b[0;32m/opt/conda/envs/tf2/lib/python3.6/site-packages/torch/utils/data/_utils/collate.py\u001b[0m in \u001b[0;36mdefault_collate\u001b[0;34m(batch)\u001b[0m\n\u001b[1;32m     77\u001b[0m     \u001b[0;32melif\u001b[0m \u001b[0misinstance\u001b[0m\u001b[0;34m(\u001b[0m\u001b[0melem\u001b[0m\u001b[0;34m,\u001b[0m \u001b[0mcontainer_abcs\u001b[0m\u001b[0;34m.\u001b[0m\u001b[0mSequence\u001b[0m\u001b[0;34m)\u001b[0m\u001b[0;34m:\u001b[0m\u001b[0;34m\u001b[0m\u001b[0;34m\u001b[0m\u001b[0m\n\u001b[1;32m     78\u001b[0m         \u001b[0mtransposed\u001b[0m \u001b[0;34m=\u001b[0m \u001b[0mzip\u001b[0m\u001b[0;34m(\u001b[0m\u001b[0;34m*\u001b[0m\u001b[0mbatch\u001b[0m\u001b[0;34m)\u001b[0m\u001b[0;34m\u001b[0m\u001b[0;34m\u001b[0m\u001b[0m\n\u001b[0;32m---> 79\u001b[0;31m         \u001b[0;32mreturn\u001b[0m \u001b[0;34m[\u001b[0m\u001b[0mdefault_collate\u001b[0m\u001b[0;34m(\u001b[0m\u001b[0msamples\u001b[0m\u001b[0;34m)\u001b[0m \u001b[0;32mfor\u001b[0m \u001b[0msamples\u001b[0m \u001b[0;32min\u001b[0m \u001b[0mtransposed\u001b[0m\u001b[0;34m]\u001b[0m\u001b[0;34m\u001b[0m\u001b[0;34m\u001b[0m\u001b[0m\n\u001b[0m\u001b[1;32m     80\u001b[0m \u001b[0;34m\u001b[0m\u001b[0m\n\u001b[1;32m     81\u001b[0m     \u001b[0;32mraise\u001b[0m \u001b[0mTypeError\u001b[0m\u001b[0;34m(\u001b[0m\u001b[0mdefault_collate_err_msg_format\u001b[0m\u001b[0;34m.\u001b[0m\u001b[0mformat\u001b[0m\u001b[0;34m(\u001b[0m\u001b[0melem_type\u001b[0m\u001b[0;34m)\u001b[0m\u001b[0;34m)\u001b[0m\u001b[0;34m\u001b[0m\u001b[0;34m\u001b[0m\u001b[0m\n",
      "\u001b[0;32m/opt/conda/envs/tf2/lib/python3.6/site-packages/torch/utils/data/_utils/collate.py\u001b[0m in \u001b[0;36m<listcomp>\u001b[0;34m(.0)\u001b[0m\n\u001b[1;32m     77\u001b[0m     \u001b[0;32melif\u001b[0m \u001b[0misinstance\u001b[0m\u001b[0;34m(\u001b[0m\u001b[0melem\u001b[0m\u001b[0;34m,\u001b[0m \u001b[0mcontainer_abcs\u001b[0m\u001b[0;34m.\u001b[0m\u001b[0mSequence\u001b[0m\u001b[0;34m)\u001b[0m\u001b[0;34m:\u001b[0m\u001b[0;34m\u001b[0m\u001b[0;34m\u001b[0m\u001b[0m\n\u001b[1;32m     78\u001b[0m         \u001b[0mtransposed\u001b[0m \u001b[0;34m=\u001b[0m \u001b[0mzip\u001b[0m\u001b[0;34m(\u001b[0m\u001b[0;34m*\u001b[0m\u001b[0mbatch\u001b[0m\u001b[0;34m)\u001b[0m\u001b[0;34m\u001b[0m\u001b[0;34m\u001b[0m\u001b[0m\n\u001b[0;32m---> 79\u001b[0;31m         \u001b[0;32mreturn\u001b[0m \u001b[0;34m[\u001b[0m\u001b[0mdefault_collate\u001b[0m\u001b[0;34m(\u001b[0m\u001b[0msamples\u001b[0m\u001b[0;34m)\u001b[0m \u001b[0;32mfor\u001b[0m \u001b[0msamples\u001b[0m \u001b[0;32min\u001b[0m \u001b[0mtransposed\u001b[0m\u001b[0;34m]\u001b[0m\u001b[0;34m\u001b[0m\u001b[0;34m\u001b[0m\u001b[0m\n\u001b[0m\u001b[1;32m     80\u001b[0m \u001b[0;34m\u001b[0m\u001b[0m\n\u001b[1;32m     81\u001b[0m     \u001b[0;32mraise\u001b[0m \u001b[0mTypeError\u001b[0m\u001b[0;34m(\u001b[0m\u001b[0mdefault_collate_err_msg_format\u001b[0m\u001b[0;34m.\u001b[0m\u001b[0mformat\u001b[0m\u001b[0;34m(\u001b[0m\u001b[0melem_type\u001b[0m\u001b[0;34m)\u001b[0m\u001b[0;34m)\u001b[0m\u001b[0;34m\u001b[0m\u001b[0;34m\u001b[0m\u001b[0m\n",
      "\u001b[0;32m/opt/conda/envs/tf2/lib/python3.6/site-packages/torch/utils/data/_utils/collate.py\u001b[0m in \u001b[0;36mdefault_collate\u001b[0;34m(batch)\u001b[0m\n\u001b[1;32m     53\u001b[0m             \u001b[0mstorage\u001b[0m \u001b[0;34m=\u001b[0m \u001b[0melem\u001b[0m\u001b[0;34m.\u001b[0m\u001b[0mstorage\u001b[0m\u001b[0;34m(\u001b[0m\u001b[0;34m)\u001b[0m\u001b[0;34m.\u001b[0m\u001b[0m_new_shared\u001b[0m\u001b[0;34m(\u001b[0m\u001b[0mnumel\u001b[0m\u001b[0;34m)\u001b[0m\u001b[0;34m\u001b[0m\u001b[0;34m\u001b[0m\u001b[0m\n\u001b[1;32m     54\u001b[0m             \u001b[0mout\u001b[0m \u001b[0;34m=\u001b[0m \u001b[0melem\u001b[0m\u001b[0;34m.\u001b[0m\u001b[0mnew\u001b[0m\u001b[0;34m(\u001b[0m\u001b[0mstorage\u001b[0m\u001b[0;34m)\u001b[0m\u001b[0;34m\u001b[0m\u001b[0;34m\u001b[0m\u001b[0m\n\u001b[0;32m---> 55\u001b[0;31m         \u001b[0;32mreturn\u001b[0m \u001b[0mtorch\u001b[0m\u001b[0;34m.\u001b[0m\u001b[0mstack\u001b[0m\u001b[0;34m(\u001b[0m\u001b[0mbatch\u001b[0m\u001b[0;34m,\u001b[0m \u001b[0;36m0\u001b[0m\u001b[0;34m,\u001b[0m \u001b[0mout\u001b[0m\u001b[0;34m=\u001b[0m\u001b[0mout\u001b[0m\u001b[0;34m)\u001b[0m\u001b[0;34m\u001b[0m\u001b[0;34m\u001b[0m\u001b[0m\n\u001b[0m\u001b[1;32m     56\u001b[0m     \u001b[0;32melif\u001b[0m \u001b[0melem_type\u001b[0m\u001b[0;34m.\u001b[0m\u001b[0m__module__\u001b[0m \u001b[0;34m==\u001b[0m \u001b[0;34m'numpy'\u001b[0m \u001b[0;32mand\u001b[0m \u001b[0melem_type\u001b[0m\u001b[0;34m.\u001b[0m\u001b[0m__name__\u001b[0m \u001b[0;34m!=\u001b[0m \u001b[0;34m'str_'\u001b[0m\u001b[0;31m \u001b[0m\u001b[0;31m\\\u001b[0m\u001b[0;34m\u001b[0m\u001b[0;34m\u001b[0m\u001b[0m\n\u001b[1;32m     57\u001b[0m             \u001b[0;32mand\u001b[0m \u001b[0melem_type\u001b[0m\u001b[0;34m.\u001b[0m\u001b[0m__name__\u001b[0m \u001b[0;34m!=\u001b[0m \u001b[0;34m'string_'\u001b[0m\u001b[0;34m:\u001b[0m\u001b[0;34m\u001b[0m\u001b[0;34m\u001b[0m\u001b[0m\n",
      "\u001b[0;31mKeyboardInterrupt\u001b[0m: "
     ]
    }
   ],
   "source": [
    "from model import RuleEncoder, DataEncoder, M5Net\n",
    "    \n",
    "input_dim = 12 if dense_only else 19\n",
    "hidden_dim = 64\n",
    "emb_dim = 16\n",
    "output_dim = 1\n",
    "\n",
    "lr = 0.001\n",
    "rule_encoder = RuleEncoder(input_dim, emb_dim, hidden_dim).to(dtype)\n",
    "data_encoder = DataEncoder(input_dim, emb_dim, hidden_dim).to(dtype)\n",
    "model = M5Net(data_info, rule_encoder, data_encoder, name_to_ind, hidden_dim).to(dtype).to(device)    # absolute prediction\n",
    "\n",
    "rule_weight = torch.tensor(model.rule_encoder.net[0].weight)\n",
    "data_weight = torch.tensor(model.data_encoder.net[0].weight)\n",
    "\n",
    "total_params = sum(p.numel() for p in model.parameters())\n",
    "print(\"total parameters: {}\".format(total_params))\n",
    "\n",
    "loss_rule = lambda x,y: torch.mean(F.relu(x-y))    # if x>y, penalize it.\n",
    "loss_task = nn.L1Loss()    # return scalar (reduction=mean)\n",
    "optimizer = optim.Adam(model.parameters(), lr=lr)\n",
    "\n",
    "\n",
    "\n",
    "model_type = 'data-only'\n",
    "# model_type = 'hybrid'    # based on perturbations\n",
    "\n",
    "epochs = 50\n",
    "log_interval = 1000\n",
    "val_freq = 5\n",
    "\n",
    "if dense_only:\n",
    "    saved_filename = 'm5_{}_weekly_demand_pred_with_pert_price_denseonly.pt'.format(model_type)\n",
    "else:\n",
    "    saved_filename = 'm5_{}_weekly_demand_pred_with_pert_price.pt'.format(model_type)\n",
    "\n",
    "saved_filename =  os.path.join('saved_models', saved_filename)\n",
    "print('saved_filename: {}\\n'.format(saved_filename))\n",
    "best_val_loss = float('inf')\n",
    "\n",
    "\n",
    "\n",
    "\n",
    "# Training\n",
    "for epoch in range(1, epochs+1):\n",
    "    model.train()\n",
    "    for batch_idx, batch_data in enumerate(train_loader):\n",
    "\n",
    "        batch_train_x = batch_data[:-1]    # input features\n",
    "        batch_train_y = batch_data[-1]\n",
    "        \n",
    "        optimizer.zero_grad()\n",
    "        \n",
    "        if model_type == 'data-only':\n",
    "            alpha = 0.0\n",
    "        elif model_type == 'rule-only':\n",
    "            alpha = 1.0\n",
    "        else:\n",
    "            alpha = torch.rand(1).item()\n",
    "\n",
    "        # stable output\n",
    "        output = model(batch_train_x, alpha=alpha)    # only rule if alpha=1.    \\hat{X}_{t+1}\n",
    "        loss_state = loss_task(output, batch_train_y)    # state prediction\n",
    "        \n",
    "        \n",
    "        # perturbed input and its output\n",
    "        pert_batch_train_x = []\n",
    "        for _train_x in batch_train_x:\n",
    "             pert_batch_train_x.append(_train_x.detach().clone())\n",
    "                \n",
    "        # Perturbations on price\n",
    "        perturbations = 1.0*torch.rand((batch_train_x[0].shape[0], ), device=device)    # two angular velocities\n",
    "        pert_batch_train_x[0][:,0] += perturbations    # 0-th feature : week_sell_price\n",
    "            \n",
    "        pert_output = model(pert_batch_train_x, alpha=alpha)    # \\hat{y}_{p}    predicted sales from perturbed input\n",
    "            \n",
    "        loss_pert = loss_rule(pert_output, output)    # pert_output should be less than output\n",
    "\n",
    "        # weighted loss\n",
    "        loss = alpha*loss_pert + (1-alpha)*loss_state    # price elasticity of demand + state prediction\n",
    "            \n",
    "        loss.backward()\n",
    "        optimizer.step()\n",
    "        \n",
    "        \n",
    "        if batch_idx % log_interval == 0:\n",
    "            print('[Train] Epoch: {} [{}/{} ({:.0f}%)]\\tLoss: {:.6f} (alpha: {:.4f})'.format(\n",
    "                epoch, batch_idx * len(batch_train_x), len(train_loader.dataset),\n",
    "                100. * batch_idx / len(train_loader), loss.item(), alpha))\n",
    "\n",
    "\n",
    "    # Evaluate on validation set\n",
    "    if epoch % val_freq == 0:\n",
    "        model.eval()\n",
    "        with torch.no_grad():\n",
    "            target = valid_y\n",
    "            output = model(valid_x_list, alpha=0.0)\n",
    "            val_loss = loss_task(output, target).item()\n",
    "            \n",
    "        if val_loss < best_val_loss:\n",
    "            best_val_loss = val_loss\n",
    "            print('[Valid] Epoch: {} Loss: {:.6f} (alpha: 0.0)\\t best model is updated %%%%'\n",
    "                  .format(epoch, best_val_loss))\n",
    "            torch.save({\n",
    "                'epoch': epoch,\n",
    "                'model_state_dict':model.state_dict(),\n",
    "                'optimizer_state_dict': optimizer.state_dict(),\n",
    "                'loss': best_val_loss\n",
    "            }, saved_filename)\n",
    "        else:\n",
    "            print('[Valid] Epoch: {} Loss: {:.6f} (alpha: 0.0)'.format(epoch, val_loss))\n",
    "            \n",
    "\n",
    "# Test\n",
    "rule_encoder = RuleEncoder(input_dim, emb_dim, hidden_dim).to(dtype)\n",
    "data_encoder = DataEncoder(input_dim, emb_dim, hidden_dim).to(dtype)\n",
    "model_eval = M5Net(data_info, rule_encoder, data_encoder, name_to_ind, hidden_dim).to(dtype).to(device)    # absolute prediction\n",
    "\n",
    "checkpoint = torch.load(saved_filename)\n",
    "model_eval.load_state_dict(checkpoint['model_state_dict'])\n",
    "print(\"best model loss: {:.6f}\\t at epoch: {}\".format(checkpoint['loss'], checkpoint['epoch']))\n",
    "\n",
    "model_eval.eval()\n",
    "with torch.no_grad():\n",
    "    target = test_y\n",
    "    output = model_eval(test_x_list, alpha=0.0)\n",
    "    test_loss = loss_task(output, target).item()  # sum up batch loss\n",
    "\n",
    "print('\\nTest set: Average loss: {:.8f}\\n'.format(test_loss))\n",
    "\n",
    "#### Check which parameters are updated.\n",
    "print('Is rule_weight NOT udpated: {}'.format(torch.allclose(rule_weight, torch.tensor(model.rule_encoder.net[0].weight))))\n",
    "print('Is data_weight NOT udpated: {}'.format(torch.allclose(data_weight, torch.tensor(model.data_encoder.net[0].weight))))"
   ]
  },
  {
   "cell_type": "code",
   "execution_count": null,
   "metadata": {},
   "outputs": [],
   "source": []
  },
  {
   "cell_type": "code",
   "execution_count": 86,
   "metadata": {},
   "outputs": [
    {
     "name": "stdout",
     "output_type": "stream",
     "text": [
      "[Data-only] mean of MAEs : 0.070516 (0.001694)\n",
      "[Data-only] mean of verification ratio : 0.489200 (0.080328)\n",
      "[Hybrid] mean of MAEs : 0.066705 (0.000778)\n",
      "[Hybrid] mean of verification ratio : 0.791600 (0.051091)\n"
     ]
    }
   ],
   "source": [
    "\n",
    "'''\n",
    "data only\n",
    "    Test set: Average loss: \n",
    "    0.06818807 (40.8 %)\n",
    "    0.07038089 (59.5 %)\n",
    "    0.07064194 (38.5 %)\n",
    "    0.07343948 (51.4 %)\n",
    "    0.06992790 (54.4 %)\n",
    "    0.07153082 (72.1 %)\n",
    "hybrid\n",
    "    0.06727948 (83.8 %) (alpha=?)\n",
    "    0.06867212 (51.2 %)\n",
    "    0.06546154 (77.9 %) (alpha=0.2)\n",
    "    0.06666304 (70.3 %) (alpha=0.3)\n",
    "    0.06695141 (79.6 %) (alpha=0.2)\n",
    "    0.06656274 (82.7 %) (alpha=0.2)\n",
    "    0.06788840 (85.3 %) (alpha=0.4)\n",
    "'''\n",
    "data_only_mae = [0.06818807, 0.07038089, 0.07064194, 0.07343948, 0.06992790]\n",
    "data_only_ratio = [0.408, 0.595, 0.385, 0.514, 0.544]\n",
    "hybrid_mae = [0.06546154, 0.06666304, 0.06695141, 0.06656274, 0.06788840]\n",
    "hybrid_ratio = [0.779, 0.703, 0.796, 0.827, 0.853]\n",
    "\n",
    "print('[Data-only] mean of MAEs : {:.6f} ({:.6f})'.format(np.mean(data_only_mae), np.std(data_only_mae)))\n",
    "print('[Data-only] mean of verification ratio : {:.6f} ({:.6f})'.format(np.mean(data_only_ratio), np.std(data_only_ratio)))\n",
    "print('[Hybrid] mean of MAEs : {:.6f} ({:.6f})'.format(np.mean(hybrid_mae), np.std(hybrid_mae)))\n",
    "print('[Hybrid] mean of verification ratio : {:.6f} ({:.6f})'.format(np.mean(hybrid_ratio), np.std(hybrid_ratio)))"
   ]
  },
  {
   "cell_type": "code",
   "execution_count": 27,
   "metadata": {},
   "outputs": [
    {
     "name": "stdout",
     "output_type": "stream",
     "text": [
      "best model loss: 0.645374\t at epoch: 35\n",
      "\n",
      "Test set: Average loss: 0.63744889\n",
      "\n"
     ]
    }
   ],
   "source": [
    "from model import RuleEncoder, DataEncoder, M5Net\n",
    "\n",
    "input_dim = 12 if dense_only else 19\n",
    "hidden_dim = 64\n",
    "emb_dim = 16\n",
    "output_dim = 1\n",
    "\n",
    "# Test\n",
    "rule_encoder = RuleEncoder(input_dim, emb_dim, hidden_dim).to(dtype)\n",
    "data_encoder = DataEncoder(input_dim, emb_dim, hidden_dim).to(dtype)\n",
    "model_eval = M5Net(data_info, rule_encoder, data_encoder, name_to_ind, hidden_dim).to(dtype).to(device)    # absolute prediction\n",
    "\n",
    "# checkpoint = torch.load('saved_models/dp-data-only_-1.3171_0.0_1.3498_0.0.pt')\n",
    "checkpoint = torch.load('saved_models/m5_hybrid_weekly_demand_pred_with_pert_price_denseonly.pt.bak')\n",
    "# checkpoint = torch.load('saved_models/m5_data-only_weekly_demand_pred_with_pert_price_denseonly.pt')\n",
    "model_eval.load_state_dict(checkpoint['model_state_dict'])\n",
    "print(\"best model loss: {:.6f}\\t at epoch: {}\".format(checkpoint['loss'], checkpoint['epoch']))\n",
    "\n",
    "model_eval.eval()\n",
    "with torch.no_grad():\n",
    "    target = test_y\n",
    "    output = model_eval(test_x_list, alpha=0.0)\n",
    "    test_loss = loss_task(output, target).item()  # sum up batch loss\n",
    "\n",
    "print('\\nTest set: Average loss: {:.8f}\\n'.format(test_loss))"
   ]
  },
  {
   "cell_type": "code",
   "execution_count": 28,
   "metadata": {},
   "outputs": [
    {
     "name": "stdout",
     "output_type": "stream",
     "text": [
      "Test set: Average loss: 0.63744889 (alpha:0.0)\n",
      "ratio of verified predictions: 0.610683 (alpha:0.0)\n",
      "Test set: Average loss: 0.65060866 (alpha:0.1)\n",
      "ratio of verified predictions: 0.709251 (alpha:0.1)\n",
      "Test set: Average loss: 0.67276679 (alpha:0.2)\n",
      "ratio of verified predictions: 0.773678 (alpha:0.2)\n",
      "Test set: Average loss: 0.69170891 (alpha:0.3)\n",
      "ratio of verified predictions: 0.854626 (alpha:0.3)\n",
      "Test set: Average loss: 0.70885479 (alpha:0.4)\n",
      "ratio of verified predictions: 0.877753 (alpha:0.4)\n",
      "Test set: Average loss: 0.72440797 (alpha:0.5)\n",
      "ratio of verified predictions: 0.888216 (alpha:0.5)\n",
      "Test set: Average loss: 0.73803571 (alpha:0.6)\n",
      "ratio of verified predictions: 0.898128 (alpha:0.6)\n",
      "Test set: Average loss: 0.75039209 (alpha:0.7)\n",
      "ratio of verified predictions: 0.899780 (alpha:0.7)\n",
      "Test set: Average loss: 0.76176925 (alpha:0.8)\n",
      "ratio of verified predictions: 0.903634 (alpha:0.8)\n",
      "Test set: Average loss: 0.77228053 (alpha:0.9)\n",
      "ratio of verified predictions: 0.904185 (alpha:0.9)\n",
      "Test set: Average loss: 0.78148466 (alpha:1.0)\n",
      "ratio of verified predictions: 0.922357 (alpha:1.0)\n"
     ]
    },
    {
     "data": {
      "text/plain": [
       "<matplotlib.legend.Legend at 0x7f7a88b15b70>"
      ]
     },
     "execution_count": 28,
     "metadata": {},
     "output_type": "execute_result"
    },
    {
     "data": {
      "image/png": "[encoded data removed]",
      "text/plain": [
       "<Figure size 720x504 with 1 Axes>"
      ]
     },
     "metadata": {
      "needs_background": "light"
     },
     "output_type": "display_data"
    },
    {
     "data": {
      "image/png": "[encoded data removed]",
      "text/plain": [
       "<Figure size 720x504 with 1 Axes>"
      ]
     },
     "metadata": {
      "needs_background": "light"
     },
     "output_type": "display_data"
    }
   ],
   "source": [
    "\n",
    "\n",
    "\n",
    "model = model_eval\n",
    "\n",
    "test_loss_alpha = []\n",
    "test_ratio_alpha = []\n",
    "alphas = [0.0,0.1,0.2,0.3,0.4,0.5,0.6,0.7,0.8,0.9,1.0]\n",
    "for _alpha in alphas:\n",
    "\n",
    "    model.eval()\n",
    "\n",
    "    with torch.no_grad():\n",
    "        target = test_y\n",
    "        output = model(test_x_list, alpha=_alpha)\n",
    "        test_loss = loss_task(output, target).item()  # sum up batch loss\n",
    "        \n",
    "        # perturbed input and its output\n",
    "        pert_test_x = []\n",
    "        for _test_x in test_x_list:\n",
    "             pert_test_x.append(_test_x.detach().clone())\n",
    "                \n",
    "        # Perturbations on price\n",
    "        perturbations =1.0*torch.rand((test_x_list[0].shape[0], ), device=device)    # two angular velocities\n",
    "        pert_test_x[0][:,0] += perturbations    # 0-th feature : week_sell_price\n",
    "            \n",
    "        pert_output = model(pert_test_x, alpha=_alpha)    # \\hat{y}_{p}    predicted sales from perturbed input\n",
    "        \n",
    "        test_ratio = verification(output, pert_output, threshold=0.0).item()\n",
    "\n",
    "    print('Test set: Average loss: {:.8f} (alpha:{})'.format(test_loss, _alpha))\n",
    "    print(\"ratio of verified predictions: {:.6f} (alpha:{})\".format(test_ratio, _alpha))\n",
    "    \n",
    "    test_loss_alpha.append(test_loss)\n",
    "    test_ratio_alpha.append(test_ratio)\n",
    "\n",
    "    \n",
    "    \n",
    "plt.figure(0, figsize=(10,7))\n",
    "plt.plot(alphas, test_loss_alpha, 'o-', label='test loss')\n",
    "plt.xlabel('alpha', fontsize=20)\n",
    "plt.ylabel('MAE', fontsize=20)\n",
    "plt.xticks(fontsize=20)\n",
    "plt.yticks(fontsize=20)\n",
    "plt.legend(fontsize=20)\n",
    "\n",
    "plt.figure(1, figsize=(10,7))\n",
    "plt.plot(alphas, test_ratio_alpha, 'o-', label='verification ratio')\n",
    "plt.xlabel('alpha', fontsize=20)\n",
    "plt.ylabel('ratio', fontsize=20)\n",
    "plt.xticks(fontsize=20)\n",
    "plt.yticks(fontsize=20)\n",
    "\n",
    "plt.legend(fontsize=20)"
   ]
  },
  {
   "cell_type": "code",
   "execution_count": 36,
   "metadata": {},
   "outputs": [
    {
     "data": {
      "text/plain": [
       "(tensor([5.6688, 5.7364, 5.6664, 5.6989, 5.6696], device='cuda:3'),\n",
       " tensor([5.6406, 5.6406, 5.6406, 5.6406, 5.6406], device='cuda:3'))"
      ]
     },
     "execution_count": 36,
     "metadata": {},
     "output_type": "execute_result"
    }
   ],
   "source": [
    "pert_test_x[0][:5,0], test_x_list[0][:5,0]"
   ]
  },
  {
   "cell_type": "code",
   "execution_count": 37,
   "metadata": {},
   "outputs": [
    {
     "data": {
      "text/plain": [
       "tensor([0.0282, 0.0957, 0.0257,  ..., 0.0246, 0.0094, 0.0460], device='cuda:3')"
      ]
     },
     "execution_count": 37,
     "metadata": {},
     "output_type": "execute_result"
    }
   ],
   "source": [
    "perturbations"
   ]
  },
  {
   "cell_type": "code",
   "execution_count": 70,
   "metadata": {},
   "outputs": [
    {
     "name": "stdout",
     "output_type": "stream",
     "text": [
      "ratio of verified predictions: 0.795705 (alpha:1.0)\n"
     ]
    },
    {
     "data": {
      "text/plain": [
       "<matplotlib.legend.Legend at 0x7fe87bcc7ac8>"
      ]
     },
     "execution_count": 70,
     "metadata": {},
     "output_type": "execute_result"
    },
    {
     "data": {
      "image/png": "[encoded data removed]",
      "text/plain": [
       "<Figure size 720x504 with 1 Axes>"
      ]
     },
     "metadata": {
      "needs_background": "light"
     },
     "output_type": "display_data"
    }
   ],
   "source": [
    "model = model_eval\n",
    "\n",
    "with torch.no_grad():\n",
    "    output = model(test_x_list, alpha=0.2)\n",
    "    \n",
    "    # perturbed input and its output\n",
    "    pert_test_x = []\n",
    "    for _test_x in test_x_list:\n",
    "         pert_test_x.append(_test_x.detach().clone())\n",
    "\n",
    "    # Perturbations on price\n",
    "    perturbations =1.0*torch.rand((test_x_list[0].shape[0], ), device=device)    # two angular velocities\n",
    "    pert_test_x[0][:,0] += perturbations    # 0-th feature : week_sell_price\n",
    "\n",
    "    pert_output = model(pert_test_x, alpha=0.2)    # \\hat{y}_{p}    predicted sales from perturbed input\n",
    "    \n",
    "test_ratio = verification(output, pert_output, threshold=0.0).item()\n",
    "\n",
    "print(\"ratio of verified predictions: {:.6f} (alpha:{})\".format(test_ratio, _alpha))\n",
    "        \n",
    "min_ind, max_ind = 100, 300 \n",
    "\n",
    "plt.figure(0, figsize=(10,7))\n",
    "# plt.plot(output.cpu()[min_ind:max_ind], '.-', label='pred')\n",
    "# plt.plot(pert_output.cpu()[min_ind:max_ind], '.-', label='pert pred')\n",
    "plt.plot((output.cpu() - pert_output.cpu())[min_ind:max_ind], '.-', label='pred - pert_pred')\n",
    "plt.plot([0.0]*(max_ind-min_ind), 'r')\n",
    "plt.legend(fontsize=20)"
   ]
  },
  {
   "cell_type": "code",
   "execution_count": 29,
   "metadata": {},
   "outputs": [],
   "source": [
    "# ret_dict = {}\n",
    "# ret_dict['test_loss_data_only'] = test_loss_alpha\n",
    "# ret_dict['test_ratio_data_only'] = test_ratio_alpha\n",
    "ret_dict['test_loss_hybrid'] = test_loss_alpha\n",
    "ret_dict['test_ratio_hybrid'] = test_ratio_alpha"
   ]
  },
  {
   "cell_type": "code",
   "execution_count": 37,
   "metadata": {},
   "outputs": [
    {
     "data": {
      "text/plain": [
       "<matplotlib.legend.Legend at 0x7f7a886629e8>"
      ]
     },
     "execution_count": 37,
     "metadata": {},
     "output_type": "execute_result"
    },
    {
     "data": {
      "image/png": "[encoded data removed]",
      "text/plain": [
       "<Figure size 720x504 with 1 Axes>"
      ]
     },
     "metadata": {
      "needs_background": "light"
     },
     "output_type": "display_data"
    },
    {
     "data": {
      "image/png": "[encoded data removed]",
      "text/plain": [
       "<Figure size 720x504 with 1 Axes>"
      ]
     },
     "metadata": {
      "needs_background": "light"
     },
     "output_type": "display_data"
    }
   ],
   "source": [
    "plt.figure(0, figsize=(10,7))\n",
    "plt.plot(alphas, ret_dict['test_loss_data_only'][:1]*len(alphas), '-', lw=3, label='test loss data-only')\n",
    "plt.plot(alphas, ret_dict['test_loss_hybrid'], 'o-', lw=3, ms=15, label='test loss hybrid')\n",
    "plt.xlabel('alpha', fontsize=20)\n",
    "plt.ylabel('MAE', fontsize=20)\n",
    "plt.xticks(fontsize=20)\n",
    "plt.yticks(fontsize=20)\n",
    "plt.legend(fontsize=20)\n",
    "\n",
    "plt.figure(1, figsize=(10,7))\n",
    "plt.plot(alphas, ret_dict['test_ratio_data_only'][:1]*len(alphas), '-', lw=3, label='verification ratio data-only')\n",
    "plt.plot(alphas, ret_dict['test_ratio_hybrid'], 'o-', lw=3, ms=15, label='verification ratio hybrid')\n",
    "plt.xlabel('alpha', fontsize=20)\n",
    "plt.ylabel('ratio', fontsize=20)\n",
    "plt.xticks(fontsize=20)\n",
    "plt.yticks(fontsize=20)\n",
    "plt.legend(fontsize=20)"
   ]
  },
  {
   "cell_type": "code",
   "execution_count": 18,
   "metadata": {},
   "outputs": [
    {
     "data": {
      "text/plain": [
       "<matplotlib.legend.Legend at 0x7fe7c2abcac8>"
      ]
     },
     "execution_count": 18,
     "metadata": {},
     "output_type": "execute_result"
    },
    {
     "data": {
      "image/png": "[encoded data removed]",
      "text/plain": [
       "<Figure size 720x504 with 1 Axes>"
      ]
     },
     "metadata": {
      "needs_background": "light"
     },
     "output_type": "display_data"
    }
   ],
   "source": [
    "model = model_eval\n",
    "\n",
    "with torch.no_grad():\n",
    "    output = model(test_x_list, alpha=0.0)\n",
    "    \n",
    "min_ind, max_ind = 100, 200    \n",
    "plt.figure(0, figsize=(10,7))\n",
    "plt.plot(test_y.cpu()[min_ind:max_ind], '-', label='gt')\n",
    "plt.plot(output.cpu()[min_ind:max_ind], '-', label='prediction')\n",
    "plt.ylabel('MAE', fontsize=20)\n",
    "plt.xticks(fontsize=20)\n",
    "plt.yticks(fontsize=20)\n",
    "plt.legend(fontsize=20)"
   ]
  },
  {
   "cell_type": "code",
   "execution_count": 19,
   "metadata": {},
   "outputs": [],
   "source": [
    "data_only_output = output"
   ]
  },
  {
   "cell_type": "code",
   "execution_count": null,
   "metadata": {},
   "outputs": [],
   "source": []
  },
  {
   "cell_type": "code",
   "execution_count": null,
   "metadata": {},
   "outputs": [],
   "source": []
  },
  {
   "cell_type": "code",
   "execution_count": 21,
   "metadata": {},
   "outputs": [],
   "source": []
  },
  {
   "cell_type": "code",
   "execution_count": null,
   "metadata": {},
   "outputs": [],
   "source": []
  },
  {
   "cell_type": "markdown",
   "metadata": {},
   "source": [
    "## Tensorflow implementation (Not working yet)"
   ]
  },
  {
   "cell_type": "code",
   "execution_count": 7,
   "metadata": {},
   "outputs": [],
   "source": [
    "import tensorflow as tf\n",
    "import tensorflow.keras as keras\n",
    "\n",
    "from tensorflow.keras import regularizers\n",
    "from tensorflow.keras.layers import Dense, Input, Embedding, Dropout, concatenate, Flatten, Layer\n",
    "from tensorflow.keras.models import Model\n",
    "\n",
    "\n",
    "class Net(Model):\n",
    "    \n",
    "    def __init__(self, data_info, threshold=0.7):\n",
    "        super(Net, self).__init__()\n",
    "        self.reg = MyActivityRegularizer()\n",
    "        \n",
    "        gc.collect()\n",
    "        \n",
    "        # Dense input\n",
    "#         self.dense_input = Input(shape=(len(dense_cols), ), name='dense1')\n",
    "\n",
    "        # Embedding input\n",
    "        self.item_id_layer = Embedding(data_info['item_id'], 3)\n",
    "        self.dept_id_layer = Embedding(data_info['dept_id'], 1)\n",
    "        self.store_id_layer = Embedding(data_info['store_id'], 1)\n",
    "        self.cat_id_layer = Embedding(data_info['cat_id'], 1)\n",
    "        self.state_id_layer = Embedding(data_info['state_id'], 1)\n",
    "        \n",
    "        # Rule encoder\n",
    "        self.rule_dense1 = Dense(16, activation='relu')\n",
    "        self.rule_dense2 = Dense(16, activation='tanh')\n",
    "        \n",
    "        # Data encoder\n",
    "        self.data_dense1 = Dense(16, activation='relu')\n",
    "        self.data_dense2 = Dense(16, activation='tanh')\n",
    "        \n",
    "        # Task layer\n",
    "        self.dense1 = Dense(16, activation='relu')\n",
    "        self.dense2 = Dense(1, activation='linear')\n",
    "        \n",
    "    \n",
    "    def call(self, inputs, alpha=0.0):\n",
    "        item_id_emb = Flatten()(self.item_id_layer(inputs['item_id']))\n",
    "        dept_id_emb = Flatten()(self.dept_id_layer(inputs['dept_id']))\n",
    "        store_id_emb = Flatten()(self.store_id_layer(inputs['store_id']))\n",
    "        cat_id_emb = Flatten()(self.cat_id_layer(inputs['cat_id']))\n",
    "        state_id_emb = Flatten()(self.state_id_layer(inputs['state_id']))\n",
    "    \n",
    "        # Combine dense and embedding parts and add dense layers. Exit on linear scale.\n",
    "        x = concatenate([inputs['dense1'], item_id_emb, dept_id_emb, store_id_emb, cat_id_emb, state_id_emb])\n",
    "        \n",
    "        #### Rule embedding\n",
    "        rule_z = self.rule_dense1(x)\n",
    "        rule_z = self.rule_dense2(rule_z)\n",
    "        \n",
    "        #### Data embedding\n",
    "        data_z = self.data_dense1(x)\n",
    "        data_z = self.data_dense2(data_z)\n",
    "        \n",
    "        #### weighted concatentation\n",
    "        z = concatenate([alpha*rule_z, (1-alpha)*data_z], axis=1)\n",
    "        \n",
    "        #### Prediction\n",
    "        out = self.dense1(z)\n",
    "        out = self.dense2(out)    # (batch, 1)\n",
    "        \n",
    "        return out\n",
    "\n",
    "# Set a model\n",
    "model = Net(data_info, 0.0)\n",
    "\n",
    "def my_loss_fn(y_true, y_pred):\n",
    "        abs_difference = tf.abs(y_true - y_pred)\n",
    "        return tf.reduce_mean(abs_difference, axis=-1)\n",
    "        \n",
    "model.compile(loss=my_loss_fn,\n",
    "              metrics=[\"mse\"],\n",
    "              optimizer=keras.optimizers.Adam(learning_rate=0.001))"
   ]
  },
  {
   "cell_type": "code",
   "execution_count": null,
   "metadata": {},
   "outputs": [],
   "source": []
  },
  {
   "cell_type": "code",
   "execution_count": null,
   "metadata": {},
   "outputs": [],
   "source": []
  },
  {
   "cell_type": "code",
   "execution_count": null,
   "metadata": {},
   "outputs": [],
   "source": []
  },
  {
   "cell_type": "code",
   "execution_count": null,
   "metadata": {},
   "outputs": [],
   "source": []
  },
  {
   "cell_type": "code",
   "execution_count": null,
   "metadata": {},
   "outputs": [],
   "source": []
  },
  {
   "cell_type": "code",
   "execution_count": null,
   "metadata": {},
   "outputs": [],
   "source": []
  }
 ],
 "metadata": {
  "kernelspec": {
   "display_name": "Python [conda env:tf2]",
   "language": "python",
   "name": "conda-env-tf2-py"
  },
  "language_info": {
   "codemirror_mode": {
    "name": "ipython",
    "version": 3
   },
   "file_extension": ".py",
   "mimetype": "text/x-python",
   "name": "python",
   "nbconvert_exporter": "python",
   "pygments_lexer": "ipython3",
   "version": "3.6.10"
  }
 },
 "nbformat": 4,
 "nbformat_minor": 4
}
